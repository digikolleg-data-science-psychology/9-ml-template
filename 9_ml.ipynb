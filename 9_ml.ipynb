{
  "cells": [
    {
      "cell_type": "markdown",
      "metadata": {
        "id": "view-in-github",
        "colab_type": "text"
      },
      "source": [
        "<a href=\"https://colab.research.google.com/github/digikolleg-data-science-psychology/9-ml-template/blob/main/9_ml.ipynb\" target=\"_parent\"><img src=\"https://colab.research.google.com/assets/colab-badge.svg\" alt=\"Open In Colab\"/></a>"
      ]
    },
    {
      "cell_type": "markdown",
      "id": "b3c62a95",
      "metadata": {
        "pycharm": {
          "name": "#%% md\n"
        },
        "id": "b3c62a95"
      },
      "source": [
        "Fill in your github username and idm credentials below:"
      ]
    },
    {
      "cell_type": "code",
      "execution_count": 1,
      "id": "d84dc505",
      "metadata": {
        "pycharm": {
          "is_executing": true,
          "name": "#%%\n"
        },
        "vscode": {
          "languageId": "python"
        },
        "id": "d84dc505"
      },
      "outputs": [],
      "source": [
        "github_username = \"\"\n",
        "idm_credentials = \"\""
      ]
    },
    {
      "cell_type": "markdown",
      "id": "642b586a",
      "metadata": {
        "pycharm": {
          "name": "#%% md\n"
        },
        "id": "642b586a"
      },
      "source": [
        "---"
      ]
    },
    {
      "cell_type": "markdown",
      "id": "f755b71b",
      "metadata": {
        "pycharm": {
          "name": "#%% md\n"
        },
        "id": "f755b71b"
      },
      "source": [
        "# **Applied Data Science in Medicine & Psychology - Assignment 9**\n",
        "## Machine Learning\n",
        "---\n",
        "**Deadline: 09.07.2024, 23:59**\n",
        "### **General Setup and Submission**\n",
        "1. Save an editable copy of this notebook to your Google Drive ``File`` $\\rightarrow$ ``Save a copy in Drive`` and remove the automatically appended \"Copy of\" text. **Do not change the original file name**.\n",
        "2. Work on the assignment in the *copied* version of the notebook. Make sure that you **replace** all parts of the tasks indicated with *YOUR CODE HERE* and **raise NotImplementedError()** (otherwise this causes an error in your implementation) or *YOUR ANSWER HERE* with your solution.\n",
        "3. If you take a break during the implementation, you can save the current status of your work in your repository following the submission instructions below. When you continue working on the assignment, do this in the version of the notebook that you saved in your Google Drive (access from your Google Colab account) or your repository.\n",
        "4. After finishing the assignment submit your assignment as follows:\n",
        "    * Check that everything runs as expected. To do that select in the menubar ``Runtime`` $\\rightarrow$ ``Restart and run all``. This will clear all your local variables and runs your notebook from the beginning.\n",
        "    * Save your notebook, click ``File`` $\\rightarrow$ ``Save``\n",
        "    * Click ``File`` $\\rightarrow$ ``Save a copy in GitHub``\n",
        "    * Select ``digikolleg-data-science-psychology/9-ml-<username>`` from the repository drop-down menu\n",
        "    * Type ``9_ml.ipynb`` into the file path text box\n",
        "    * Optionally, you may enter a description into the \"Commit message\" text box (like: \"solved task 1\" or \"ready for grading\")\n",
        "    * Make sure that the \"Include a link to Colaboratory\" box is checked\n",
        "    * Press \"Ok\"\n",
        "    * A new tab or window should open up, displaying your submitted notebook within your GitHub repository\n",
        "\n",
        "Before the assignment deadline, you can re-submit your assignment as often as you would like. This will update your assignment file in your assignment's repository."
      ]
    },
    {
      "cell_type": "markdown",
      "id": "feae57d8",
      "metadata": {
        "pycharm": {
          "name": "#%% md\n"
        },
        "id": "feae57d8"
      },
      "source": [
        "### **Assignment Description**\n",
        "In this assignment, you will learn how to work with different functionalities provided by the ``scikit-learn`` library (``sklearn``) which offers various tools for predictive data analysis. We will cover four of the eight steps of the Machine Learning pipeline (described in the lecture). The assignment is divided into two parts: the main assignment and Bonus Tasks. The Bonus Tasks offer additional points that are added on top of the points earned in all other assignments, providing an opportunity to further enhance your overall score.\n",
        "\n",
        "#### **Assignment Goals**\n",
        "You are going to learn the following things in this assignment:\n",
        "1. how to apply standardization\n",
        "2. how to extract new features using dimensionality reduction\n",
        "3. how to split data into a training and test dataset\n",
        "4. how to train and evaluate a classifier\n",
        "5. how to predict values using a regression model\n",
        "6. how to assign labels using clustering algorithms\n",
        "\n",
        "#### **Assignment Point Value**\n",
        "This assignment is worth a total (up to) **19** points (5 Bonus points included). If your code passes all of the manual and automatic tests you will receive full credit."
      ]
    },
    {
      "cell_type": "markdown",
      "id": "b1313beb",
      "metadata": {
        "pycharm": {
          "name": "#%% md\n"
        },
        "id": "b1313beb"
      },
      "source": [
        "### **Tasks** (14 points)\n",
        "Make sure that you now work on your *copied* version of this assignment's notebook."
      ]
    },
    {
      "cell_type": "markdown",
      "id": "d3f4e322",
      "metadata": {
        "pycharm": {
          "name": "#%% md\n"
        },
        "id": "d3f4e322"
      },
      "source": [
        "#### 0. Imports and Setup\n",
        "Please **run** the cell below to import the libraries needed for this assignment."
      ]
    },
    {
      "cell_type": "code",
      "execution_count": 2,
      "id": "b955034e-7820-42ac-a6a0-f10b1796cdc5",
      "metadata": {
        "jupyter": {
          "outputs_hidden": false
        },
        "pycharm": {
          "name": "#%%\n"
        },
        "tags": [],
        "id": "b955034e-7820-42ac-a6a0-f10b1796cdc5",
        "outputId": "468b68f4-867d-4b12-fd28-cfb464ed7740",
        "colab": {
          "base_uri": "https://localhost:8080/",
          "height": 1000
        }
      },
      "outputs": [
        {
          "output_type": "stream",
          "name": "stdout",
          "text": [
            "Collecting biopsykit\n",
            "  Downloading biopsykit-0.10.0-py3-none-any.whl (284 kB)\n",
            "\u001b[2K     \u001b[90m━━━━━━━━━━━━━━━━━━━━━━━━━━━━━━━━━━━━━━━━\u001b[0m \u001b[32m284.4/284.4 kB\u001b[0m \u001b[31m1.3 MB/s\u001b[0m eta \u001b[36m0:00:00\u001b[0m\n",
            "\u001b[?25hCollecting XlsxWriter<2,>=1 (from biopsykit)\n",
            "  Downloading XlsxWriter-1.4.5-py2.py3-none-any.whl (149 kB)\n",
            "\u001b[2K     \u001b[90m━━━━━━━━━━━━━━━━━━━━━━━━━━━━━━━━━━━━━━━━\u001b[0m \u001b[32m149.7/149.7 kB\u001b[0m \u001b[31m7.4 MB/s\u001b[0m eta \u001b[36m0:00:00\u001b[0m\n",
            "\u001b[?25hCollecting bioread<4,>=3 (from biopsykit)\n",
            "  Downloading bioread-3.0.1-py3-none-any.whl (54 kB)\n",
            "\u001b[2K     \u001b[90m━━━━━━━━━━━━━━━━━━━━━━━━━━━━━━━━━━━━━━━━\u001b[0m \u001b[32m54.3/54.3 kB\u001b[0m \u001b[31m3.5 MB/s\u001b[0m eta \u001b[36m0:00:00\u001b[0m\n",
            "\u001b[?25hCollecting fau-colors<2.0,>=1.1 (from biopsykit)\n",
            "  Downloading fau_colors-1.7.0-py3-none-any.whl (9.0 kB)\n",
            "Requirement already satisfied: joblib<2,>=1 in /usr/local/lib/python3.10/dist-packages (from biopsykit) (1.4.2)\n",
            "Requirement already satisfied: matplotlib<4.0,>=3.4 in /usr/local/lib/python3.10/dist-packages (from biopsykit) (3.7.1)\n",
            "Collecting neurokit2<1,>=0 (from biopsykit)\n",
            "  Downloading neurokit2-0.2.9-py2.py3-none-any.whl (689 kB)\n",
            "\u001b[2K     \u001b[90m━━━━━━━━━━━━━━━━━━━━━━━━━━━━━━━━━━━━━━━━\u001b[0m \u001b[32m689.2/689.2 kB\u001b[0m \u001b[31m9.6 MB/s\u001b[0m eta \u001b[36m0:00:00\u001b[0m\n",
            "\u001b[?25hCollecting nilspodlib>=3.4.1 (from biopsykit)\n",
            "  Downloading nilspodlib-3.6.0-py3-none-any.whl (38 kB)\n",
            "Requirement already satisfied: numpy<2,>=1 in /usr/local/lib/python3.10/dist-packages (from biopsykit) (1.25.2)\n",
            "Requirement already satisfied: openpyxl<4,>=3 in /usr/local/lib/python3.10/dist-packages (from biopsykit) (3.1.4)\n",
            "Collecting pandas<2,>=1 (from biopsykit)\n",
            "  Downloading pandas-1.5.3-cp310-cp310-manylinux_2_17_x86_64.manylinux2014_x86_64.whl (12.1 MB)\n",
            "\u001b[2K     \u001b[90m━━━━━━━━━━━━━━━━━━━━━━━━━━━━━━━━━━━━━━━━\u001b[0m \u001b[32m12.1/12.1 MB\u001b[0m \u001b[31m24.5 MB/s\u001b[0m eta \u001b[36m0:00:00\u001b[0m\n",
            "\u001b[?25hCollecting pingouin<0.6.0,>=0.5.2 (from biopsykit)\n",
            "  Downloading pingouin-0.5.4-py2.py3-none-any.whl (198 kB)\n",
            "\u001b[2K     \u001b[90m━━━━━━━━━━━━━━━━━━━━━━━━━━━━━━━━━━━━━━━━\u001b[0m \u001b[32m198.9/198.9 kB\u001b[0m \u001b[31m9.4 MB/s\u001b[0m eta \u001b[36m0:00:00\u001b[0m\n",
            "\u001b[?25hRequirement already satisfied: scikit-learn<2.0,>=1.0 in /usr/local/lib/python3.10/dist-packages (from biopsykit) (1.2.2)\n",
            "Requirement already satisfied: scipy<2,>=1 in /usr/local/lib/python3.10/dist-packages (from biopsykit) (1.11.4)\n",
            "Requirement already satisfied: seaborn<1,>=0 in /usr/local/lib/python3.10/dist-packages (from biopsykit) (0.13.1)\n",
            "Collecting statannot<0.3.0,>=0.2.3 (from biopsykit)\n",
            "  Downloading statannot-0.2.3-py3-none-any.whl (10 kB)\n",
            "Collecting statsmodels<0.14,>=0.13 (from biopsykit)\n",
            "  Downloading statsmodels-0.13.5-cp310-cp310-manylinux_2_17_x86_64.manylinux2014_x86_64.whl (9.9 MB)\n",
            "\u001b[2K     \u001b[90m━━━━━━━━━━━━━━━━━━━━━━━━━━━━━━━━━━━━━━━━\u001b[0m \u001b[32m9.9/9.9 MB\u001b[0m \u001b[31m19.9 MB/s\u001b[0m eta \u001b[36m0:00:00\u001b[0m\n",
            "\u001b[?25hRequirement already satisfied: tqdm<5,>=4 in /usr/local/lib/python3.10/dist-packages (from biopsykit) (4.66.4)\n",
            "Requirement already satisfied: xlrd<3,>=2 in /usr/local/lib/python3.10/dist-packages (from biopsykit) (2.0.1)\n",
            "Collecting docopt>=0.6.1 (from bioread<4,>=3->biopsykit)\n",
            "  Downloading docopt-0.6.2.tar.gz (25 kB)\n",
            "  Preparing metadata (setup.py) ... \u001b[?25l\u001b[?25hdone\n",
            "Requirement already satisfied: typing-extensions>=3.7 in /usr/local/lib/python3.10/dist-packages (from fau-colors<2.0,>=1.1->biopsykit) (4.12.2)\n",
            "Requirement already satisfied: contourpy>=1.0.1 in /usr/local/lib/python3.10/dist-packages (from matplotlib<4.0,>=3.4->biopsykit) (1.2.1)\n",
            "Requirement already satisfied: cycler>=0.10 in /usr/local/lib/python3.10/dist-packages (from matplotlib<4.0,>=3.4->biopsykit) (0.12.1)\n",
            "Requirement already satisfied: fonttools>=4.22.0 in /usr/local/lib/python3.10/dist-packages (from matplotlib<4.0,>=3.4->biopsykit) (4.53.0)\n",
            "Requirement already satisfied: kiwisolver>=1.0.1 in /usr/local/lib/python3.10/dist-packages (from matplotlib<4.0,>=3.4->biopsykit) (1.4.5)\n",
            "Requirement already satisfied: packaging>=20.0 in /usr/local/lib/python3.10/dist-packages (from matplotlib<4.0,>=3.4->biopsykit) (24.1)\n",
            "Requirement already satisfied: pillow>=6.2.0 in /usr/local/lib/python3.10/dist-packages (from matplotlib<4.0,>=3.4->biopsykit) (9.4.0)\n",
            "Requirement already satisfied: pyparsing>=2.3.1 in /usr/local/lib/python3.10/dist-packages (from matplotlib<4.0,>=3.4->biopsykit) (3.1.2)\n",
            "Requirement already satisfied: python-dateutil>=2.7 in /usr/local/lib/python3.10/dist-packages (from matplotlib<4.0,>=3.4->biopsykit) (2.8.2)\n",
            "Requirement already satisfied: requests in /usr/local/lib/python3.10/dist-packages (from neurokit2<1,>=0->biopsykit) (2.31.0)\n",
            "Collecting imucal>=2.0.0 (from nilspodlib>=3.4.1->biopsykit)\n",
            "  Downloading imucal-2.4.0-py3-none-any.whl (23 kB)\n",
            "Requirement already satisfied: et-xmlfile in /usr/local/lib/python3.10/dist-packages (from openpyxl<4,>=3->biopsykit) (1.1.0)\n",
            "Requirement already satisfied: pytz>=2020.1 in /usr/local/lib/python3.10/dist-packages (from pandas<2,>=1->biopsykit) (2023.4)\n",
            "Collecting pandas-flavor (from pingouin<0.6.0,>=0.5.2->biopsykit)\n",
            "  Downloading pandas_flavor-0.6.0-py3-none-any.whl (7.2 kB)\n",
            "Requirement already satisfied: tabulate in /usr/local/lib/python3.10/dist-packages (from pingouin<0.6.0,>=0.5.2->biopsykit) (0.9.0)\n",
            "Requirement already satisfied: threadpoolctl>=2.0.0 in /usr/local/lib/python3.10/dist-packages (from scikit-learn<2.0,>=1.0->biopsykit) (3.5.0)\n",
            "Requirement already satisfied: patsy>=0.5.2 in /usr/local/lib/python3.10/dist-packages (from statsmodels<0.14,>=0.13->biopsykit) (0.5.6)\n",
            "Requirement already satisfied: six in /usr/local/lib/python3.10/dist-packages (from patsy>=0.5.2->statsmodels<0.14,>=0.13->biopsykit) (1.16.0)\n",
            "Requirement already satisfied: xarray in /usr/local/lib/python3.10/dist-packages (from pandas-flavor->pingouin<0.6.0,>=0.5.2->biopsykit) (2023.7.0)\n",
            "Requirement already satisfied: charset-normalizer<4,>=2 in /usr/local/lib/python3.10/dist-packages (from requests->neurokit2<1,>=0->biopsykit) (3.3.2)\n",
            "Requirement already satisfied: idna<4,>=2.5 in /usr/local/lib/python3.10/dist-packages (from requests->neurokit2<1,>=0->biopsykit) (3.7)\n",
            "Requirement already satisfied: urllib3<3,>=1.21.1 in /usr/local/lib/python3.10/dist-packages (from requests->neurokit2<1,>=0->biopsykit) (2.0.7)\n",
            "Requirement already satisfied: certifi>=2017.4.17 in /usr/local/lib/python3.10/dist-packages (from requests->neurokit2<1,>=0->biopsykit) (2024.6.2)\n",
            "Building wheels for collected packages: docopt\n",
            "  Building wheel for docopt (setup.py) ... \u001b[?25l\u001b[?25hdone\n",
            "  Created wheel for docopt: filename=docopt-0.6.2-py2.py3-none-any.whl size=13706 sha256=742873186083b0c9a8245a20c7a082f9e32523a12bdda5123c1aacb940d91cc8\n",
            "  Stored in directory: /root/.cache/pip/wheels/fc/ab/d4/5da2067ac95b36618c629a5f93f809425700506f72c9732fac\n",
            "Successfully built docopt\n",
            "Installing collected packages: XlsxWriter, docopt, statannot, bioread, pandas, statsmodels, neurokit2, imucal, pandas-flavor, nilspodlib, fau-colors, pingouin, biopsykit\n",
            "  Attempting uninstall: pandas\n",
            "    Found existing installation: pandas 2.0.3\n",
            "    Uninstalling pandas-2.0.3:\n",
            "      Successfully uninstalled pandas-2.0.3\n",
            "  Attempting uninstall: statsmodels\n",
            "    Found existing installation: statsmodels 0.14.2\n",
            "    Uninstalling statsmodels-0.14.2:\n",
            "      Successfully uninstalled statsmodels-0.14.2\n",
            "\u001b[31mERROR: pip's dependency resolver does not currently take into account all the packages that are installed. This behaviour is the source of the following dependency conflicts.\n",
            "cudf-cu12 24.4.1 requires pandas<2.2.2dev0,>=2.0, but you have pandas 1.5.3 which is incompatible.\n",
            "google-colab 1.0.0 requires pandas==2.0.3, but you have pandas 1.5.3 which is incompatible.\n",
            "plotnine 0.12.4 requires statsmodels>=0.14.0, but you have statsmodels 0.13.5 which is incompatible.\u001b[0m\u001b[31m\n",
            "\u001b[0mSuccessfully installed XlsxWriter-1.4.5 biopsykit-0.10.0 bioread-3.0.1 docopt-0.6.2 fau-colors-1.7.0 imucal-2.4.0 neurokit2-0.2.9 nilspodlib-3.6.0 pandas-1.5.3 pandas-flavor-0.6.0 pingouin-0.5.4 statannot-0.2.3 statsmodels-0.13.5\n"
          ]
        },
        {
          "output_type": "display_data",
          "data": {
            "application/vnd.colab-display-data+json": {
              "pip_warning": {
                "packages": [
                  "pandas"
                ]
              },
              "id": "479f608c16a440859022ee4a381320fd"
            }
          },
          "metadata": {}
        }
      ],
      "source": [
        "import matplotlib.pyplot as plt\n",
        "import numpy as np\n",
        "import pandas as pd\n",
        "!pip install biopsykit\n",
        "import biopsykit as bp\n",
        "import seaborn as sns\n",
        "import sklearn\n",
        "import warnings\n",
        "from sklearn.datasets import load_breast_cancer, load_diabetes\n",
        "from sklearn.preprocessing import StandardScaler\n",
        "from sklearn.decomposition import PCA\n",
        "from sklearn.model_selection import train_test_split, cross_validate\n",
        "from sklearn.ensemble import RandomForestClassifier\n",
        "from sklearn.svm import SVC\n",
        "from sklearn.linear_model import LinearRegression\n",
        "from sklearn.metrics import confusion_matrix, ConfusionMatrixDisplay, mean_squared_error\n",
        "from sklearn.inspection import DecisionBoundaryDisplay\n",
        "from sklearn.cluster import KMeans"
      ]
    },
    {
      "cell_type": "markdown",
      "id": "5b0cd249",
      "metadata": {
        "pycharm": {
          "name": "#%% md\n"
        },
        "id": "5b0cd249"
      },
      "source": [
        "#### 1. Data Loading and Preparation\n",
        "For the following tasks, we use the *Breast Cancer Wisconsin dataset* of the ``scikit-learn`` library. Have a look at the content and structure of the dataset (``dataset_cancer``):\n",
        "* What is the dataset about?\n",
        "* How many instances (also called observations) and attributes (also called features) are included?\n",
        "* How many instances are within every class?\n",
        "\n",
        "The relevant information needed for the assignment is stored within two data frames:\n",
        "* ``data_cancer`` contains all instances as rows and the attributes as columns\n",
        "* ``label_cancer`` indicates whether each breast cancer instance turned out to be malignant or benign"
      ]
    },
    {
      "cell_type": "code",
      "execution_count": 3,
      "id": "d9d622e8",
      "metadata": {
        "jupyter": {
          "outputs_hidden": false
        },
        "pycharm": {
          "name": "#%%\n"
        },
        "tags": [],
        "id": "d9d622e8",
        "outputId": "1c156db4-7812-4412-f08d-14445d2ceccd",
        "colab": {
          "base_uri": "https://localhost:8080/",
          "height": 290
        }
      },
      "outputs": [
        {
          "output_type": "execute_result",
          "data": {
            "text/plain": [
              "   mean radius  mean texture  mean perimeter  mean area  mean smoothness   \n",
              "0        17.99         10.38          122.80     1001.0          0.11840  \\\n",
              "1        20.57         17.77          132.90     1326.0          0.08474   \n",
              "2        19.69         21.25          130.00     1203.0          0.10960   \n",
              "3        11.42         20.38           77.58      386.1          0.14250   \n",
              "4        20.29         14.34          135.10     1297.0          0.10030   \n",
              "\n",
              "   mean compactness  mean concavity  mean concave points  mean symmetry   \n",
              "0           0.27760          0.3001              0.14710         0.2419  \\\n",
              "1           0.07864          0.0869              0.07017         0.1812   \n",
              "2           0.15990          0.1974              0.12790         0.2069   \n",
              "3           0.28390          0.2414              0.10520         0.2597   \n",
              "4           0.13280          0.1980              0.10430         0.1809   \n",
              "\n",
              "   mean fractal dimension  ...  worst radius  worst texture  worst perimeter   \n",
              "0                 0.07871  ...         25.38          17.33           184.60  \\\n",
              "1                 0.05667  ...         24.99          23.41           158.80   \n",
              "2                 0.05999  ...         23.57          25.53           152.50   \n",
              "3                 0.09744  ...         14.91          26.50            98.87   \n",
              "4                 0.05883  ...         22.54          16.67           152.20   \n",
              "\n",
              "   worst area  worst smoothness  worst compactness  worst concavity   \n",
              "0      2019.0            0.1622             0.6656           0.7119  \\\n",
              "1      1956.0            0.1238             0.1866           0.2416   \n",
              "2      1709.0            0.1444             0.4245           0.4504   \n",
              "3       567.7            0.2098             0.8663           0.6869   \n",
              "4      1575.0            0.1374             0.2050           0.4000   \n",
              "\n",
              "   worst concave points  worst symmetry  worst fractal dimension  \n",
              "0                0.2654          0.4601                  0.11890  \n",
              "1                0.1860          0.2750                  0.08902  \n",
              "2                0.2430          0.3613                  0.08758  \n",
              "3                0.2575          0.6638                  0.17300  \n",
              "4                0.1625          0.2364                  0.07678  \n",
              "\n",
              "[5 rows x 30 columns]"
            ],
            "text/html": [
              "\n",
              "  <div id=\"df-6d3f0120-e868-4154-bd7a-f1af0be4488c\" class=\"colab-df-container\">\n",
              "    <div>\n",
              "<style scoped>\n",
              "    .dataframe tbody tr th:only-of-type {\n",
              "        vertical-align: middle;\n",
              "    }\n",
              "\n",
              "    .dataframe tbody tr th {\n",
              "        vertical-align: top;\n",
              "    }\n",
              "\n",
              "    .dataframe thead th {\n",
              "        text-align: right;\n",
              "    }\n",
              "</style>\n",
              "<table border=\"1\" class=\"dataframe\">\n",
              "  <thead>\n",
              "    <tr style=\"text-align: right;\">\n",
              "      <th></th>\n",
              "      <th>mean radius</th>\n",
              "      <th>mean texture</th>\n",
              "      <th>mean perimeter</th>\n",
              "      <th>mean area</th>\n",
              "      <th>mean smoothness</th>\n",
              "      <th>mean compactness</th>\n",
              "      <th>mean concavity</th>\n",
              "      <th>mean concave points</th>\n",
              "      <th>mean symmetry</th>\n",
              "      <th>mean fractal dimension</th>\n",
              "      <th>...</th>\n",
              "      <th>worst radius</th>\n",
              "      <th>worst texture</th>\n",
              "      <th>worst perimeter</th>\n",
              "      <th>worst area</th>\n",
              "      <th>worst smoothness</th>\n",
              "      <th>worst compactness</th>\n",
              "      <th>worst concavity</th>\n",
              "      <th>worst concave points</th>\n",
              "      <th>worst symmetry</th>\n",
              "      <th>worst fractal dimension</th>\n",
              "    </tr>\n",
              "  </thead>\n",
              "  <tbody>\n",
              "    <tr>\n",
              "      <th>0</th>\n",
              "      <td>17.99</td>\n",
              "      <td>10.38</td>\n",
              "      <td>122.80</td>\n",
              "      <td>1001.0</td>\n",
              "      <td>0.11840</td>\n",
              "      <td>0.27760</td>\n",
              "      <td>0.3001</td>\n",
              "      <td>0.14710</td>\n",
              "      <td>0.2419</td>\n",
              "      <td>0.07871</td>\n",
              "      <td>...</td>\n",
              "      <td>25.38</td>\n",
              "      <td>17.33</td>\n",
              "      <td>184.60</td>\n",
              "      <td>2019.0</td>\n",
              "      <td>0.1622</td>\n",
              "      <td>0.6656</td>\n",
              "      <td>0.7119</td>\n",
              "      <td>0.2654</td>\n",
              "      <td>0.4601</td>\n",
              "      <td>0.11890</td>\n",
              "    </tr>\n",
              "    <tr>\n",
              "      <th>1</th>\n",
              "      <td>20.57</td>\n",
              "      <td>17.77</td>\n",
              "      <td>132.90</td>\n",
              "      <td>1326.0</td>\n",
              "      <td>0.08474</td>\n",
              "      <td>0.07864</td>\n",
              "      <td>0.0869</td>\n",
              "      <td>0.07017</td>\n",
              "      <td>0.1812</td>\n",
              "      <td>0.05667</td>\n",
              "      <td>...</td>\n",
              "      <td>24.99</td>\n",
              "      <td>23.41</td>\n",
              "      <td>158.80</td>\n",
              "      <td>1956.0</td>\n",
              "      <td>0.1238</td>\n",
              "      <td>0.1866</td>\n",
              "      <td>0.2416</td>\n",
              "      <td>0.1860</td>\n",
              "      <td>0.2750</td>\n",
              "      <td>0.08902</td>\n",
              "    </tr>\n",
              "    <tr>\n",
              "      <th>2</th>\n",
              "      <td>19.69</td>\n",
              "      <td>21.25</td>\n",
              "      <td>130.00</td>\n",
              "      <td>1203.0</td>\n",
              "      <td>0.10960</td>\n",
              "      <td>0.15990</td>\n",
              "      <td>0.1974</td>\n",
              "      <td>0.12790</td>\n",
              "      <td>0.2069</td>\n",
              "      <td>0.05999</td>\n",
              "      <td>...</td>\n",
              "      <td>23.57</td>\n",
              "      <td>25.53</td>\n",
              "      <td>152.50</td>\n",
              "      <td>1709.0</td>\n",
              "      <td>0.1444</td>\n",
              "      <td>0.4245</td>\n",
              "      <td>0.4504</td>\n",
              "      <td>0.2430</td>\n",
              "      <td>0.3613</td>\n",
              "      <td>0.08758</td>\n",
              "    </tr>\n",
              "    <tr>\n",
              "      <th>3</th>\n",
              "      <td>11.42</td>\n",
              "      <td>20.38</td>\n",
              "      <td>77.58</td>\n",
              "      <td>386.1</td>\n",
              "      <td>0.14250</td>\n",
              "      <td>0.28390</td>\n",
              "      <td>0.2414</td>\n",
              "      <td>0.10520</td>\n",
              "      <td>0.2597</td>\n",
              "      <td>0.09744</td>\n",
              "      <td>...</td>\n",
              "      <td>14.91</td>\n",
              "      <td>26.50</td>\n",
              "      <td>98.87</td>\n",
              "      <td>567.7</td>\n",
              "      <td>0.2098</td>\n",
              "      <td>0.8663</td>\n",
              "      <td>0.6869</td>\n",
              "      <td>0.2575</td>\n",
              "      <td>0.6638</td>\n",
              "      <td>0.17300</td>\n",
              "    </tr>\n",
              "    <tr>\n",
              "      <th>4</th>\n",
              "      <td>20.29</td>\n",
              "      <td>14.34</td>\n",
              "      <td>135.10</td>\n",
              "      <td>1297.0</td>\n",
              "      <td>0.10030</td>\n",
              "      <td>0.13280</td>\n",
              "      <td>0.1980</td>\n",
              "      <td>0.10430</td>\n",
              "      <td>0.1809</td>\n",
              "      <td>0.05883</td>\n",
              "      <td>...</td>\n",
              "      <td>22.54</td>\n",
              "      <td>16.67</td>\n",
              "      <td>152.20</td>\n",
              "      <td>1575.0</td>\n",
              "      <td>0.1374</td>\n",
              "      <td>0.2050</td>\n",
              "      <td>0.4000</td>\n",
              "      <td>0.1625</td>\n",
              "      <td>0.2364</td>\n",
              "      <td>0.07678</td>\n",
              "    </tr>\n",
              "  </tbody>\n",
              "</table>\n",
              "<p>5 rows × 30 columns</p>\n",
              "</div>\n",
              "    <div class=\"colab-df-buttons\">\n",
              "\n",
              "  <div class=\"colab-df-container\">\n",
              "    <button class=\"colab-df-convert\" onclick=\"convertToInteractive('df-6d3f0120-e868-4154-bd7a-f1af0be4488c')\"\n",
              "            title=\"Convert this dataframe to an interactive table.\"\n",
              "            style=\"display:none;\">\n",
              "\n",
              "  <svg xmlns=\"http://www.w3.org/2000/svg\" height=\"24px\" viewBox=\"0 -960 960 960\">\n",
              "    <path d=\"M120-120v-720h720v720H120Zm60-500h600v-160H180v160Zm220 220h160v-160H400v160Zm0 220h160v-160H400v160ZM180-400h160v-160H180v160Zm440 0h160v-160H620v160ZM180-180h160v-160H180v160Zm440 0h160v-160H620v160Z\"/>\n",
              "  </svg>\n",
              "    </button>\n",
              "\n",
              "  <style>\n",
              "    .colab-df-container {\n",
              "      display:flex;\n",
              "      gap: 12px;\n",
              "    }\n",
              "\n",
              "    .colab-df-convert {\n",
              "      background-color: #E8F0FE;\n",
              "      border: none;\n",
              "      border-radius: 50%;\n",
              "      cursor: pointer;\n",
              "      display: none;\n",
              "      fill: #1967D2;\n",
              "      height: 32px;\n",
              "      padding: 0 0 0 0;\n",
              "      width: 32px;\n",
              "    }\n",
              "\n",
              "    .colab-df-convert:hover {\n",
              "      background-color: #E2EBFA;\n",
              "      box-shadow: 0px 1px 2px rgba(60, 64, 67, 0.3), 0px 1px 3px 1px rgba(60, 64, 67, 0.15);\n",
              "      fill: #174EA6;\n",
              "    }\n",
              "\n",
              "    .colab-df-buttons div {\n",
              "      margin-bottom: 4px;\n",
              "    }\n",
              "\n",
              "    [theme=dark] .colab-df-convert {\n",
              "      background-color: #3B4455;\n",
              "      fill: #D2E3FC;\n",
              "    }\n",
              "\n",
              "    [theme=dark] .colab-df-convert:hover {\n",
              "      background-color: #434B5C;\n",
              "      box-shadow: 0px 1px 3px 1px rgba(0, 0, 0, 0.15);\n",
              "      filter: drop-shadow(0px 1px 2px rgba(0, 0, 0, 0.3));\n",
              "      fill: #FFFFFF;\n",
              "    }\n",
              "  </style>\n",
              "\n",
              "    <script>\n",
              "      const buttonEl =\n",
              "        document.querySelector('#df-6d3f0120-e868-4154-bd7a-f1af0be4488c button.colab-df-convert');\n",
              "      buttonEl.style.display =\n",
              "        google.colab.kernel.accessAllowed ? 'block' : 'none';\n",
              "\n",
              "      async function convertToInteractive(key) {\n",
              "        const element = document.querySelector('#df-6d3f0120-e868-4154-bd7a-f1af0be4488c');\n",
              "        const dataTable =\n",
              "          await google.colab.kernel.invokeFunction('convertToInteractive',\n",
              "                                                    [key], {});\n",
              "        if (!dataTable) return;\n",
              "\n",
              "        const docLinkHtml = 'Like what you see? Visit the ' +\n",
              "          '<a target=\"_blank\" href=https://colab.research.google.com/notebooks/data_table.ipynb>data table notebook</a>'\n",
              "          + ' to learn more about interactive tables.';\n",
              "        element.innerHTML = '';\n",
              "        dataTable['output_type'] = 'display_data';\n",
              "        await google.colab.output.renderOutput(dataTable, element);\n",
              "        const docLink = document.createElement('div');\n",
              "        docLink.innerHTML = docLinkHtml;\n",
              "        element.appendChild(docLink);\n",
              "      }\n",
              "    </script>\n",
              "  </div>\n",
              "\n",
              "\n",
              "<div id=\"df-3c70625d-3d4c-4c2a-954c-e45fa33f304a\">\n",
              "  <button class=\"colab-df-quickchart\" onclick=\"quickchart('df-3c70625d-3d4c-4c2a-954c-e45fa33f304a')\"\n",
              "            title=\"Suggest charts\"\n",
              "            style=\"display:none;\">\n",
              "\n",
              "<svg xmlns=\"http://www.w3.org/2000/svg\" height=\"24px\"viewBox=\"0 0 24 24\"\n",
              "     width=\"24px\">\n",
              "    <g>\n",
              "        <path d=\"M19 3H5c-1.1 0-2 .9-2 2v14c0 1.1.9 2 2 2h14c1.1 0 2-.9 2-2V5c0-1.1-.9-2-2-2zM9 17H7v-7h2v7zm4 0h-2V7h2v10zm4 0h-2v-4h2v4z\"/>\n",
              "    </g>\n",
              "</svg>\n",
              "  </button>\n",
              "\n",
              "<style>\n",
              "  .colab-df-quickchart {\n",
              "      --bg-color: #E8F0FE;\n",
              "      --fill-color: #1967D2;\n",
              "      --hover-bg-color: #E2EBFA;\n",
              "      --hover-fill-color: #174EA6;\n",
              "      --disabled-fill-color: #AAA;\n",
              "      --disabled-bg-color: #DDD;\n",
              "  }\n",
              "\n",
              "  [theme=dark] .colab-df-quickchart {\n",
              "      --bg-color: #3B4455;\n",
              "      --fill-color: #D2E3FC;\n",
              "      --hover-bg-color: #434B5C;\n",
              "      --hover-fill-color: #FFFFFF;\n",
              "      --disabled-bg-color: #3B4455;\n",
              "      --disabled-fill-color: #666;\n",
              "  }\n",
              "\n",
              "  .colab-df-quickchart {\n",
              "    background-color: var(--bg-color);\n",
              "    border: none;\n",
              "    border-radius: 50%;\n",
              "    cursor: pointer;\n",
              "    display: none;\n",
              "    fill: var(--fill-color);\n",
              "    height: 32px;\n",
              "    padding: 0;\n",
              "    width: 32px;\n",
              "  }\n",
              "\n",
              "  .colab-df-quickchart:hover {\n",
              "    background-color: var(--hover-bg-color);\n",
              "    box-shadow: 0 1px 2px rgba(60, 64, 67, 0.3), 0 1px 3px 1px rgba(60, 64, 67, 0.15);\n",
              "    fill: var(--button-hover-fill-color);\n",
              "  }\n",
              "\n",
              "  .colab-df-quickchart-complete:disabled,\n",
              "  .colab-df-quickchart-complete:disabled:hover {\n",
              "    background-color: var(--disabled-bg-color);\n",
              "    fill: var(--disabled-fill-color);\n",
              "    box-shadow: none;\n",
              "  }\n",
              "\n",
              "  .colab-df-spinner {\n",
              "    border: 2px solid var(--fill-color);\n",
              "    border-color: transparent;\n",
              "    border-bottom-color: var(--fill-color);\n",
              "    animation:\n",
              "      spin 1s steps(1) infinite;\n",
              "  }\n",
              "\n",
              "  @keyframes spin {\n",
              "    0% {\n",
              "      border-color: transparent;\n",
              "      border-bottom-color: var(--fill-color);\n",
              "      border-left-color: var(--fill-color);\n",
              "    }\n",
              "    20% {\n",
              "      border-color: transparent;\n",
              "      border-left-color: var(--fill-color);\n",
              "      border-top-color: var(--fill-color);\n",
              "    }\n",
              "    30% {\n",
              "      border-color: transparent;\n",
              "      border-left-color: var(--fill-color);\n",
              "      border-top-color: var(--fill-color);\n",
              "      border-right-color: var(--fill-color);\n",
              "    }\n",
              "    40% {\n",
              "      border-color: transparent;\n",
              "      border-right-color: var(--fill-color);\n",
              "      border-top-color: var(--fill-color);\n",
              "    }\n",
              "    60% {\n",
              "      border-color: transparent;\n",
              "      border-right-color: var(--fill-color);\n",
              "    }\n",
              "    80% {\n",
              "      border-color: transparent;\n",
              "      border-right-color: var(--fill-color);\n",
              "      border-bottom-color: var(--fill-color);\n",
              "    }\n",
              "    90% {\n",
              "      border-color: transparent;\n",
              "      border-bottom-color: var(--fill-color);\n",
              "    }\n",
              "  }\n",
              "</style>\n",
              "\n",
              "  <script>\n",
              "    async function quickchart(key) {\n",
              "      const quickchartButtonEl =\n",
              "        document.querySelector('#' + key + ' button');\n",
              "      quickchartButtonEl.disabled = true;  // To prevent multiple clicks.\n",
              "      quickchartButtonEl.classList.add('colab-df-spinner');\n",
              "      try {\n",
              "        const charts = await google.colab.kernel.invokeFunction(\n",
              "            'suggestCharts', [key], {});\n",
              "      } catch (error) {\n",
              "        console.error('Error during call to suggestCharts:', error);\n",
              "      }\n",
              "      quickchartButtonEl.classList.remove('colab-df-spinner');\n",
              "      quickchartButtonEl.classList.add('colab-df-quickchart-complete');\n",
              "    }\n",
              "    (() => {\n",
              "      let quickchartButtonEl =\n",
              "        document.querySelector('#df-3c70625d-3d4c-4c2a-954c-e45fa33f304a button');\n",
              "      quickchartButtonEl.style.display =\n",
              "        google.colab.kernel.accessAllowed ? 'block' : 'none';\n",
              "    })();\n",
              "  </script>\n",
              "</div>\n",
              "\n",
              "    </div>\n",
              "  </div>\n"
            ],
            "application/vnd.google.colaboratory.intrinsic+json": {
              "type": "dataframe",
              "variable_name": "data_cancer"
            }
          },
          "metadata": {},
          "execution_count": 3
        }
      ],
      "source": [
        "# run cell to load the dataset\n",
        "dataset_cancer = load_breast_cancer()\n",
        "data_cancer = pd.DataFrame(dataset_cancer[\"data\"], columns=dataset_cancer[\"feature_names\"])\n",
        "label_cancer = pd.DataFrame(dataset_cancer[\"target\"], columns=[\"label\"])\n",
        "label_cancer.loc[label_cancer[\"label\"] == 0, [\"label\"]] = \"malignant\"\n",
        "label_cancer.loc[label_cancer[\"label\"] == 1, [\"label\"]] = \"benign\"\n",
        "data_cancer.head()"
      ]
    },
    {
      "cell_type": "code",
      "execution_count": 4,
      "id": "1cec9f66-2ff7-4f89-ab9e-0100a65efa92",
      "metadata": {
        "tags": [],
        "id": "1cec9f66-2ff7-4f89-ab9e-0100a65efa92",
        "outputId": "ef8ebbc6-9b77-4ae8-c30c-b41cdc06ca3c",
        "colab": {
          "base_uri": "https://localhost:8080/",
          "height": 206
        }
      },
      "outputs": [
        {
          "output_type": "execute_result",
          "data": {
            "text/plain": [
              "       label\n",
              "0  malignant\n",
              "1  malignant\n",
              "2  malignant\n",
              "3  malignant\n",
              "4  malignant"
            ],
            "text/html": [
              "\n",
              "  <div id=\"df-074b2ef7-d759-48b2-beac-8f2e7bd1d98d\" class=\"colab-df-container\">\n",
              "    <div>\n",
              "<style scoped>\n",
              "    .dataframe tbody tr th:only-of-type {\n",
              "        vertical-align: middle;\n",
              "    }\n",
              "\n",
              "    .dataframe tbody tr th {\n",
              "        vertical-align: top;\n",
              "    }\n",
              "\n",
              "    .dataframe thead th {\n",
              "        text-align: right;\n",
              "    }\n",
              "</style>\n",
              "<table border=\"1\" class=\"dataframe\">\n",
              "  <thead>\n",
              "    <tr style=\"text-align: right;\">\n",
              "      <th></th>\n",
              "      <th>label</th>\n",
              "    </tr>\n",
              "  </thead>\n",
              "  <tbody>\n",
              "    <tr>\n",
              "      <th>0</th>\n",
              "      <td>malignant</td>\n",
              "    </tr>\n",
              "    <tr>\n",
              "      <th>1</th>\n",
              "      <td>malignant</td>\n",
              "    </tr>\n",
              "    <tr>\n",
              "      <th>2</th>\n",
              "      <td>malignant</td>\n",
              "    </tr>\n",
              "    <tr>\n",
              "      <th>3</th>\n",
              "      <td>malignant</td>\n",
              "    </tr>\n",
              "    <tr>\n",
              "      <th>4</th>\n",
              "      <td>malignant</td>\n",
              "    </tr>\n",
              "  </tbody>\n",
              "</table>\n",
              "</div>\n",
              "    <div class=\"colab-df-buttons\">\n",
              "\n",
              "  <div class=\"colab-df-container\">\n",
              "    <button class=\"colab-df-convert\" onclick=\"convertToInteractive('df-074b2ef7-d759-48b2-beac-8f2e7bd1d98d')\"\n",
              "            title=\"Convert this dataframe to an interactive table.\"\n",
              "            style=\"display:none;\">\n",
              "\n",
              "  <svg xmlns=\"http://www.w3.org/2000/svg\" height=\"24px\" viewBox=\"0 -960 960 960\">\n",
              "    <path d=\"M120-120v-720h720v720H120Zm60-500h600v-160H180v160Zm220 220h160v-160H400v160Zm0 220h160v-160H400v160ZM180-400h160v-160H180v160Zm440 0h160v-160H620v160ZM180-180h160v-160H180v160Zm440 0h160v-160H620v160Z\"/>\n",
              "  </svg>\n",
              "    </button>\n",
              "\n",
              "  <style>\n",
              "    .colab-df-container {\n",
              "      display:flex;\n",
              "      gap: 12px;\n",
              "    }\n",
              "\n",
              "    .colab-df-convert {\n",
              "      background-color: #E8F0FE;\n",
              "      border: none;\n",
              "      border-radius: 50%;\n",
              "      cursor: pointer;\n",
              "      display: none;\n",
              "      fill: #1967D2;\n",
              "      height: 32px;\n",
              "      padding: 0 0 0 0;\n",
              "      width: 32px;\n",
              "    }\n",
              "\n",
              "    .colab-df-convert:hover {\n",
              "      background-color: #E2EBFA;\n",
              "      box-shadow: 0px 1px 2px rgba(60, 64, 67, 0.3), 0px 1px 3px 1px rgba(60, 64, 67, 0.15);\n",
              "      fill: #174EA6;\n",
              "    }\n",
              "\n",
              "    .colab-df-buttons div {\n",
              "      margin-bottom: 4px;\n",
              "    }\n",
              "\n",
              "    [theme=dark] .colab-df-convert {\n",
              "      background-color: #3B4455;\n",
              "      fill: #D2E3FC;\n",
              "    }\n",
              "\n",
              "    [theme=dark] .colab-df-convert:hover {\n",
              "      background-color: #434B5C;\n",
              "      box-shadow: 0px 1px 3px 1px rgba(0, 0, 0, 0.15);\n",
              "      filter: drop-shadow(0px 1px 2px rgba(0, 0, 0, 0.3));\n",
              "      fill: #FFFFFF;\n",
              "    }\n",
              "  </style>\n",
              "\n",
              "    <script>\n",
              "      const buttonEl =\n",
              "        document.querySelector('#df-074b2ef7-d759-48b2-beac-8f2e7bd1d98d button.colab-df-convert');\n",
              "      buttonEl.style.display =\n",
              "        google.colab.kernel.accessAllowed ? 'block' : 'none';\n",
              "\n",
              "      async function convertToInteractive(key) {\n",
              "        const element = document.querySelector('#df-074b2ef7-d759-48b2-beac-8f2e7bd1d98d');\n",
              "        const dataTable =\n",
              "          await google.colab.kernel.invokeFunction('convertToInteractive',\n",
              "                                                    [key], {});\n",
              "        if (!dataTable) return;\n",
              "\n",
              "        const docLinkHtml = 'Like what you see? Visit the ' +\n",
              "          '<a target=\"_blank\" href=https://colab.research.google.com/notebooks/data_table.ipynb>data table notebook</a>'\n",
              "          + ' to learn more about interactive tables.';\n",
              "        element.innerHTML = '';\n",
              "        dataTable['output_type'] = 'display_data';\n",
              "        await google.colab.output.renderOutput(dataTable, element);\n",
              "        const docLink = document.createElement('div');\n",
              "        docLink.innerHTML = docLinkHtml;\n",
              "        element.appendChild(docLink);\n",
              "      }\n",
              "    </script>\n",
              "  </div>\n",
              "\n",
              "\n",
              "<div id=\"df-8a495308-06d0-4d73-ad02-62aa6f25f6bd\">\n",
              "  <button class=\"colab-df-quickchart\" onclick=\"quickchart('df-8a495308-06d0-4d73-ad02-62aa6f25f6bd')\"\n",
              "            title=\"Suggest charts\"\n",
              "            style=\"display:none;\">\n",
              "\n",
              "<svg xmlns=\"http://www.w3.org/2000/svg\" height=\"24px\"viewBox=\"0 0 24 24\"\n",
              "     width=\"24px\">\n",
              "    <g>\n",
              "        <path d=\"M19 3H5c-1.1 0-2 .9-2 2v14c0 1.1.9 2 2 2h14c1.1 0 2-.9 2-2V5c0-1.1-.9-2-2-2zM9 17H7v-7h2v7zm4 0h-2V7h2v10zm4 0h-2v-4h2v4z\"/>\n",
              "    </g>\n",
              "</svg>\n",
              "  </button>\n",
              "\n",
              "<style>\n",
              "  .colab-df-quickchart {\n",
              "      --bg-color: #E8F0FE;\n",
              "      --fill-color: #1967D2;\n",
              "      --hover-bg-color: #E2EBFA;\n",
              "      --hover-fill-color: #174EA6;\n",
              "      --disabled-fill-color: #AAA;\n",
              "      --disabled-bg-color: #DDD;\n",
              "  }\n",
              "\n",
              "  [theme=dark] .colab-df-quickchart {\n",
              "      --bg-color: #3B4455;\n",
              "      --fill-color: #D2E3FC;\n",
              "      --hover-bg-color: #434B5C;\n",
              "      --hover-fill-color: #FFFFFF;\n",
              "      --disabled-bg-color: #3B4455;\n",
              "      --disabled-fill-color: #666;\n",
              "  }\n",
              "\n",
              "  .colab-df-quickchart {\n",
              "    background-color: var(--bg-color);\n",
              "    border: none;\n",
              "    border-radius: 50%;\n",
              "    cursor: pointer;\n",
              "    display: none;\n",
              "    fill: var(--fill-color);\n",
              "    height: 32px;\n",
              "    padding: 0;\n",
              "    width: 32px;\n",
              "  }\n",
              "\n",
              "  .colab-df-quickchart:hover {\n",
              "    background-color: var(--hover-bg-color);\n",
              "    box-shadow: 0 1px 2px rgba(60, 64, 67, 0.3), 0 1px 3px 1px rgba(60, 64, 67, 0.15);\n",
              "    fill: var(--button-hover-fill-color);\n",
              "  }\n",
              "\n",
              "  .colab-df-quickchart-complete:disabled,\n",
              "  .colab-df-quickchart-complete:disabled:hover {\n",
              "    background-color: var(--disabled-bg-color);\n",
              "    fill: var(--disabled-fill-color);\n",
              "    box-shadow: none;\n",
              "  }\n",
              "\n",
              "  .colab-df-spinner {\n",
              "    border: 2px solid var(--fill-color);\n",
              "    border-color: transparent;\n",
              "    border-bottom-color: var(--fill-color);\n",
              "    animation:\n",
              "      spin 1s steps(1) infinite;\n",
              "  }\n",
              "\n",
              "  @keyframes spin {\n",
              "    0% {\n",
              "      border-color: transparent;\n",
              "      border-bottom-color: var(--fill-color);\n",
              "      border-left-color: var(--fill-color);\n",
              "    }\n",
              "    20% {\n",
              "      border-color: transparent;\n",
              "      border-left-color: var(--fill-color);\n",
              "      border-top-color: var(--fill-color);\n",
              "    }\n",
              "    30% {\n",
              "      border-color: transparent;\n",
              "      border-left-color: var(--fill-color);\n",
              "      border-top-color: var(--fill-color);\n",
              "      border-right-color: var(--fill-color);\n",
              "    }\n",
              "    40% {\n",
              "      border-color: transparent;\n",
              "      border-right-color: var(--fill-color);\n",
              "      border-top-color: var(--fill-color);\n",
              "    }\n",
              "    60% {\n",
              "      border-color: transparent;\n",
              "      border-right-color: var(--fill-color);\n",
              "    }\n",
              "    80% {\n",
              "      border-color: transparent;\n",
              "      border-right-color: var(--fill-color);\n",
              "      border-bottom-color: var(--fill-color);\n",
              "    }\n",
              "    90% {\n",
              "      border-color: transparent;\n",
              "      border-bottom-color: var(--fill-color);\n",
              "    }\n",
              "  }\n",
              "</style>\n",
              "\n",
              "  <script>\n",
              "    async function quickchart(key) {\n",
              "      const quickchartButtonEl =\n",
              "        document.querySelector('#' + key + ' button');\n",
              "      quickchartButtonEl.disabled = true;  // To prevent multiple clicks.\n",
              "      quickchartButtonEl.classList.add('colab-df-spinner');\n",
              "      try {\n",
              "        const charts = await google.colab.kernel.invokeFunction(\n",
              "            'suggestCharts', [key], {});\n",
              "      } catch (error) {\n",
              "        console.error('Error during call to suggestCharts:', error);\n",
              "      }\n",
              "      quickchartButtonEl.classList.remove('colab-df-spinner');\n",
              "      quickchartButtonEl.classList.add('colab-df-quickchart-complete');\n",
              "    }\n",
              "    (() => {\n",
              "      let quickchartButtonEl =\n",
              "        document.querySelector('#df-8a495308-06d0-4d73-ad02-62aa6f25f6bd button');\n",
              "      quickchartButtonEl.style.display =\n",
              "        google.colab.kernel.accessAllowed ? 'block' : 'none';\n",
              "    })();\n",
              "  </script>\n",
              "</div>\n",
              "\n",
              "    </div>\n",
              "  </div>\n"
            ],
            "application/vnd.google.colaboratory.intrinsic+json": {
              "type": "dataframe",
              "variable_name": "label_cancer",
              "summary": "{\n  \"name\": \"label_cancer\",\n  \"rows\": 569,\n  \"fields\": [\n    {\n      \"column\": \"label\",\n      \"properties\": {\n        \"dtype\": \"category\",\n        \"num_unique_values\": 2,\n        \"samples\": [\n          \"benign\",\n          \"malignant\"\n        ],\n        \"semantic_type\": \"\",\n        \"description\": \"\"\n      }\n    }\n  ]\n}"
            }
          },
          "metadata": {},
          "execution_count": 4
        }
      ],
      "source": [
        "# run cell to see the labels\n",
        "label_cancer.head()"
      ]
    },
    {
      "cell_type": "markdown",
      "id": "d3e6c2ec-81b2-4c36-b387-803156e39ff7",
      "metadata": {
        "jupyter": {
          "outputs_hidden": false
        },
        "pycharm": {
          "name": "#%%\n"
        },
        "tags": [],
        "id": "d3e6c2ec-81b2-4c36-b387-803156e39ff7"
      },
      "source": [
        "#### 2. Feature Visualization\n",
        "* Visualize the features *mean radius*, *mean texture*, *mean smoothness*, *mean concavity*, and *mean symmetry* using a [seaborn.pairplot](https://seaborn.pydata.org/generated/seaborn.pairplot.html)\n",
        "* Set the plot parameters such that you can differentiate between the classes\n",
        "* Save the return values of the plot in a variable called ``pp``\n",
        "* Have a look at the plot. Describe your thoughts about (in the cell below):\n",
        "    * the distributions of the single features (diagonal). Why is it most of the time advantageous to include more than one feature in your analysis?\n",
        "    * the separability of classes\n",
        "    * correlation between features\n",
        "\n",
        "**Hint**: Concatenating all relevant data to a new data frame might help you to solve this task."
      ]
    },
    {
      "cell_type": "markdown",
      "id": "b516545a-53ee-42b0-867c-8115d1b273fd",
      "metadata": {
        "id": "b516545a-53ee-42b0-867c-8115d1b273fd"
      },
      "source": [
        "*YOUR ANSWER HERE*"
      ]
    },
    {
      "cell_type": "code",
      "execution_count": 5,
      "id": "4291e7b2-c71c-49ac-bb3b-28f811894dce",
      "metadata": {
        "deletable": false,
        "nbgrader": {
          "cell_type": "code",
          "checksum": "051af6edc1f876efa136db82d31c141e",
          "grade": false,
          "grade_id": "pairplot_1",
          "locked": false,
          "schema_version": 3,
          "solution": true,
          "task": false
        },
        "tags": [],
        "id": "4291e7b2-c71c-49ac-bb3b-28f811894dce",
        "outputId": "3b4df9e1-f11b-4e0e-e559-e26e3a682839",
        "colab": {
          "base_uri": "https://localhost:8080/",
          "height": 162
        }
      },
      "outputs": [
        {
          "output_type": "error",
          "ename": "NotImplementedError",
          "evalue": "",
          "traceback": [
            "\u001b[0;31m---------------------------------------------------------------------------\u001b[0m",
            "\u001b[0;31mNotImplementedError\u001b[0m                       Traceback (most recent call last)",
            "\u001b[0;32m<ipython-input-5-15b94d1fa268>\u001b[0m in \u001b[0;36m<cell line: 2>\u001b[0;34m()\u001b[0m\n\u001b[1;32m      1\u001b[0m \u001b[0;31m# YOUR CODE HERE\u001b[0m\u001b[0;34m\u001b[0m\u001b[0;34m\u001b[0m\u001b[0m\n\u001b[0;32m----> 2\u001b[0;31m \u001b[0;32mraise\u001b[0m \u001b[0mNotImplementedError\u001b[0m\u001b[0;34m(\u001b[0m\u001b[0;34m)\u001b[0m\u001b[0;34m\u001b[0m\u001b[0;34m\u001b[0m\u001b[0m\n\u001b[0m",
            "\u001b[0;31mNotImplementedError\u001b[0m: "
          ]
        }
      ],
      "source": [
        "# YOUR CODE HERE\n",
        "raise NotImplementedError()"
      ]
    },
    {
      "cell_type": "code",
      "execution_count": null,
      "id": "2abd3a2c-e347-4e31-b0a7-74c5b4976f25",
      "metadata": {
        "deletable": false,
        "editable": false,
        "nbgrader": {
          "cell_type": "code",
          "checksum": "79bdcc8ec7964642fead5a960e6f03f8",
          "grade": true,
          "grade_id": "pairplot_1_test",
          "locked": true,
          "points": 1,
          "schema_version": 3,
          "solution": false,
          "task": false
        },
        "tags": [],
        "id": "2abd3a2c-e347-4e31-b0a7-74c5b4976f25"
      },
      "outputs": [],
      "source": [
        "# run cell to test your implementation\n",
        "assert type(pp) == sns.axisgrid.PairGrid, \"Check that you create a pairplot using the seaborn library\"\n",
        "assert pp.x_vars == pp.y_vars and np.shape(pp.axes) == (5, 5), \"Check that you create a pairplot\"\n",
        "assert set(pp.x_vars) == {\"mean concavity\", \"mean radius\", \"mean smoothness\", \"mean symmetry\", \"mean texture\"}, \"Check the features in the pairplot\"\n",
        "assert pp.legend is not None, \"Make sure that you can differentiate between the classes\""
      ]
    },
    {
      "cell_type": "markdown",
      "id": "f4478a19-d3a1-4f3c-8bd4-763993e6a315",
      "metadata": {
        "id": "f4478a19-d3a1-4f3c-8bd4-763993e6a315"
      },
      "source": [
        "#### 3. Standardization (step: Data Preparation)\n",
        "Create two functions ``train_scaler`` and ``apply_scaler`` that apply [Standardization](https://scikit-learn.org/stable/modules/preprocessing.html) to the dataset:\n",
        "* ``train_scaler`` has the parameter ``data`` and fits a Standard Scaler to ``data``:\n",
        "    * ``data``: ``pandas.DataFrame`` containing the dataset (rows: observations, columns: features)\n",
        "    * Create an instance of [sklearn.preprocessing.StandardScaler](https://scikit-learn.org/stable/modules/generated/sklearn.preprocessing.StandardScaler.html)\n",
        "    * Use its methods to fit the scaler to ``data``\n",
        "    * The function should return the trained scaler object\n",
        "* ``apply_scaler`` has the parameter ``scaler`` and ``data``:\n",
        "    * ``scaler``: trained instance of  [sklearn.preprocessing.StandardScaler](https://scikit-learn.org/stable/modules/generated/sklearn.preprocessing.StandardScaler.html)\n",
        "    * ``data``: ``pandas.DataFrame`` containing the dataset (rows: observations, columns: features)\n",
        "    * Use the methods of ``scaler`` to transform ``data`` such that every feature individually has zero mean and unit variance\n",
        "    * The function should return an array containing a standardized version of ``data``\n",
        "* Why do you think we have to split the fitting and transforming procedure into two separate functions? (answer in the cell below)"
      ]
    },
    {
      "cell_type": "markdown",
      "id": "8aa8a3d9-81fd-47fe-bfca-a2c4376bc8aa",
      "metadata": {
        "id": "8aa8a3d9-81fd-47fe-bfca-a2c4376bc8aa"
      },
      "source": [
        "*YOUR ANSWER HERE*"
      ]
    },
    {
      "cell_type": "code",
      "execution_count": null,
      "id": "7bfbbc84-b199-44be-9b06-4603b23289de",
      "metadata": {
        "deletable": false,
        "nbgrader": {
          "cell_type": "code",
          "checksum": "b4badd957409abfcdeced194efcef9e3",
          "grade": false,
          "grade_id": "standardization",
          "locked": false,
          "schema_version": 3,
          "solution": true,
          "task": false
        },
        "pycharm": {
          "name": "#%% md\n"
        },
        "tags": [],
        "id": "7bfbbc84-b199-44be-9b06-4603b23289de"
      },
      "outputs": [],
      "source": [
        "# YOUR CODE HERE\n",
        "raise NotImplementedError()"
      ]
    },
    {
      "cell_type": "code",
      "execution_count": null,
      "id": "8c7c5dad-c4c7-444e-a787-e6077cc3ec70",
      "metadata": {
        "deletable": false,
        "editable": false,
        "nbgrader": {
          "cell_type": "code",
          "checksum": "a9623b50071b0cb3b7430ae3afbdd075",
          "grade": true,
          "grade_id": "standardization_test",
          "locked": true,
          "points": 2,
          "schema_version": 3,
          "solution": false,
          "task": false
        },
        "tags": [],
        "id": "8c7c5dad-c4c7-444e-a787-e6077cc3ec70"
      },
      "outputs": [],
      "source": [
        "# run cell to test your implementation\n",
        "scaler = train_scaler(data_cancer)\n",
        "assert type(scaler) == sklearn.preprocessing._data.StandardScaler, \"Check that you train a Standard Scaler\"\n",
        "assert hasattr(scaler, \"mean_\"), \"Ensure that you fit the Scaler to your data\"\n",
        "data_scaled = apply_scaler(scaler, data_cancer)\n",
        "assert type(data_scaled) == np.ndarray, \"Check that you return the standardized data as array\"\n",
        "assert np.shape(data_scaled) == (569, 30), \"Check that you return value keeps the input dimensions\"\n",
        "assert np.sum(np.std(data_scaled, axis=0)) > 29.99, \"Ensure that all features have unit variance after standardizing\"\n",
        "assert np.abs(np.sum(np.mean(data_scaled, axis=0))) < 1e-10, \"Ensure that all features have zero mean after standardizing\""
      ]
    },
    {
      "cell_type": "markdown",
      "id": "193b02a2-1454-4f19-853c-e1d929544cab",
      "metadata": {
        "id": "193b02a2-1454-4f19-853c-e1d929544cab"
      },
      "source": [
        "#### 4. Visualization Standardization\n",
        "Create a figure with two subplots that visualizes 2 features of the original and standardized dataset:\n",
        "* Create a figure with two subplots using [matplotlib.pyplot.subplots](https://matplotlib.org/stable/api/_as_gen/matplotlib.pyplot.subplots.html) and save its return values in variables called ``fig`` and ``axs``\n",
        "* Plot in the first subplot a scatter plot of *mean radius* and *mean texture* of the original dataset\n",
        "* Plot in the second subplot a scatter plot of *mean radius* and *mean texture* of the standardized dataset\n",
        "* Set x- and y-axis labels and the subplot titles according to the data\n",
        "* Describe the effects that standardization has on the data (in the cell below)\n",
        "\n",
        "**Hints**: Check the data type of the standardized data, how can you access its values? You can also set the parameters ``sharex`` and ``sharey`` of [matplotlib.pyplot.subplots](https://matplotlib.org/stable/api/_as_gen/matplotlib.pyplot.subplots.html) to ``True`` to see some of the effects of standardization."
      ]
    },
    {
      "cell_type": "markdown",
      "id": "c0c50079-c512-4681-86db-a835c82fec03",
      "metadata": {
        "id": "c0c50079-c512-4681-86db-a835c82fec03"
      },
      "source": [
        "*YOUR ANSWER HERE*"
      ]
    },
    {
      "cell_type": "code",
      "execution_count": null,
      "id": "e6fc6b98-acbc-4f46-9bfb-d279c936e510",
      "metadata": {
        "deletable": false,
        "nbgrader": {
          "cell_type": "code",
          "checksum": "cf36a317fbe79ebdf5fde6c3e23d5231",
          "grade": false,
          "grade_id": "vis_standardization",
          "locked": false,
          "schema_version": 3,
          "solution": true,
          "task": false
        },
        "tags": [],
        "id": "e6fc6b98-acbc-4f46-9bfb-d279c936e510"
      },
      "outputs": [],
      "source": [
        "# YOUR CODE HERE\n",
        "raise NotImplementedError()"
      ]
    },
    {
      "cell_type": "code",
      "execution_count": null,
      "id": "9bec6a3a-7581-4392-b217-066c49ad231c",
      "metadata": {
        "deletable": false,
        "editable": false,
        "nbgrader": {
          "cell_type": "code",
          "checksum": "31f53c7de351240f2aa9a8f01bf3ce4f",
          "grade": true,
          "grade_id": "vis_standardization_test",
          "locked": true,
          "points": 1,
          "schema_version": 3,
          "solution": false,
          "task": false
        },
        "tags": [],
        "id": "9bec6a3a-7581-4392-b217-066c49ad231c"
      },
      "outputs": [],
      "source": [
        "# run cell to test your implementation\n",
        "assert len(fig.axes) == 2, \"Ensure that you create a figure with two subplots\"\n",
        "assert np.all(np.abs(fig.axes[1].xaxis.get_data_interval()) < 5) and np.all(np.abs(fig.axes[1].yaxis.get_data_interval()) < 5), \"Ensure that you visualize the standardized versions of mean radius and mean texture in the right subplot\"\n",
        "assert len(fig.axes[0].get_xlabel()) != 0 and len(fig.axes[0].get_ylabel()) != 0, \"Check the first subplot's x and y labels\"\n",
        "assert len(fig.axes[0].title.get_text()), \"Check the first subplot's title\"\n",
        "assert len(fig.axes[1].get_xlabel()) != 0 and len(fig.axes[1].get_ylabel()) != 0, \"Check the second subplot's x and y labels\"\n",
        "assert len(fig.axes[1].title.get_text()), \"Check the second subplot's title\""
      ]
    },
    {
      "cell_type": "markdown",
      "id": "5a9faa99-de21-43b1-829f-b34ca29c64db",
      "metadata": {
        "tags": [],
        "id": "5a9faa99-de21-43b1-829f-b34ca29c64db"
      },
      "source": [
        "#### 5. Feature Visualization\n",
        "* Visualize the features *mean radius*, *mean perimeter*, *mean area*, *worst radius*, and *worst perimeter* of the original dataset using a [seaborn.pairplot](https://seaborn.pydata.org/generated/seaborn.pairplot.html)\n",
        "* Set the parameters such that you can differentiate between the classes\n",
        "* Save the return values of the plot in a variable called ``pp``\n",
        "* Have a look at the plot. Describe your thoughts about the correlation between features (in the cell below):"
      ]
    },
    {
      "cell_type": "markdown",
      "id": "06a06cb3-5cb2-4956-b2aa-a882616e876f",
      "metadata": {
        "jupyter": {
          "outputs_hidden": false
        },
        "pycharm": {
          "name": "#%%\n"
        },
        "id": "06a06cb3-5cb2-4956-b2aa-a882616e876f"
      },
      "source": [
        "*YOUR ANSWER HERE*"
      ]
    },
    {
      "cell_type": "code",
      "execution_count": null,
      "id": "25ae638f-2919-48b7-99a8-9f2dae7b2e51",
      "metadata": {
        "deletable": false,
        "nbgrader": {
          "cell_type": "code",
          "checksum": "4caf0aa33c73c727d30ad7e2e943086d",
          "grade": false,
          "grade_id": "pairplot_2",
          "locked": false,
          "schema_version": 3,
          "solution": true,
          "task": false
        },
        "tags": [],
        "id": "25ae638f-2919-48b7-99a8-9f2dae7b2e51"
      },
      "outputs": [],
      "source": [
        "# YOUR CODE HERE\n",
        "raise NotImplementedError()"
      ]
    },
    {
      "cell_type": "code",
      "execution_count": null,
      "id": "7f7cabf4-db3d-4652-9d49-2c7401f70964",
      "metadata": {
        "deletable": false,
        "editable": false,
        "jupyter": {
          "outputs_hidden": false
        },
        "nbgrader": {
          "cell_type": "code",
          "checksum": "94ca489dd28aad4afb679313e126c03b",
          "grade": true,
          "grade_id": "pairplot_2_test",
          "locked": true,
          "points": 1,
          "schema_version": 3,
          "solution": false,
          "task": false
        },
        "pycharm": {
          "name": "#%%\n"
        },
        "tags": [],
        "id": "7f7cabf4-db3d-4652-9d49-2c7401f70964"
      },
      "outputs": [],
      "source": [
        "# run cell to test your implementation\n",
        "assert type(pp) == sns.axisgrid.PairGrid, \"Check that you create a pairplot using the seaborn library\"\n",
        "assert pp.x_vars == pp.y_vars and np.shape(pp.axes) == (5, 5), \"Check that you create a pairplot\"\n",
        "assert set(pp.x_vars) == {\"mean area\", \"mean perimeter\", \"mean radius\", \"worst perimeter\", \"worst radius\"}, \"Check the features in the pairplot\"\n",
        "assert pp.legend is not None, \"Make sure that you can differentiate between the classes\""
      ]
    },
    {
      "cell_type": "markdown",
      "id": "f9c7eb84",
      "metadata": {
        "pycharm": {
          "name": "#%% md\n"
        },
        "id": "f9c7eb84"
      },
      "source": [
        "#### 6. Dimensionality Reduction (step: Data Preparation)\n",
        "Create two functions ``train_pca`` and ``apply_pca`` that apply [Principal Component Analysis (PCA)](https://scikit-learn.org/stable/modules/decomposition.html#decompositions) to the dataset:\n",
        "* ``train_pca`` has the parameters ``data`` and ``n_components`` and fits a PCA to ``data``:\n",
        "    * ``data``: ``numpy.ndarray`` or ``pandas.DataFrame`` containing the data (rows: observations, columns: features)\n",
        "    * ``n_components``: number of principal components to be kept\n",
        "    * Create an instance of [sklearn.decomposition.PCA](https://scikit-learn.org/stable/modules/generated/sklearn.decomposition.PCA.html). Set the parameters: *n_components*: ``n_components``, *svd_solver*: \"full\". Have a look at the *n_components* parameter, which options do you have to specify the parameter?\n",
        "    * Use its methods to fit the PCA to ``data``\n",
        "    * The function should return the trained PCA object\n",
        "* ``apply_pca`` has the parameters ``pca`` and ``data`` and transforms ``data`` using ``pca``:\n",
        "    * ``pca``: trained instance of [sklearn.decomposition.PCA](https://scikit-learn.org/stable/modules/generated/sklearn.decomposition.PCA.html)\n",
        "    * ``data``: ``numpy.ndarray`` or ``pandas.DataFrame`` containing the data (rows: observations, columns: features)\n",
        "    * Use the methods of ``pca`` to transform ``data``\n",
        "    * The function should return an array containing the principal components"
      ]
    },
    {
      "cell_type": "code",
      "execution_count": null,
      "id": "027b6563",
      "metadata": {
        "deletable": false,
        "jupyter": {
          "outputs_hidden": false
        },
        "nbgrader": {
          "cell_type": "code",
          "checksum": "1c9906d51c27b217c214473714f68026",
          "grade": false,
          "grade_id": "pca",
          "locked": false,
          "schema_version": 3,
          "solution": true,
          "task": false
        },
        "pycharm": {
          "name": "#%%\n"
        },
        "tags": [],
        "id": "027b6563"
      },
      "outputs": [],
      "source": [
        "# YOUR CODE HERE\n",
        "raise NotImplementedError()"
      ]
    },
    {
      "cell_type": "code",
      "execution_count": null,
      "id": "7e83db75-f9bb-4c9c-8bf7-c989fc949471",
      "metadata": {
        "deletable": false,
        "editable": false,
        "nbgrader": {
          "cell_type": "code",
          "checksum": "1e178e3a9656acc38b351eb56c6514e0",
          "grade": true,
          "grade_id": "pca_test",
          "locked": true,
          "points": 2,
          "schema_version": 3,
          "solution": false,
          "task": false
        },
        "tags": [],
        "id": "7e83db75-f9bb-4c9c-8bf7-c989fc949471"
      },
      "outputs": [],
      "source": [
        "# run cell to test your implementation\n",
        "pca = train_pca(data_cancer, 2)\n",
        "assert type(pca) == sklearn.decomposition._pca.PCA, \"Check that you train an return a PCA\"\n",
        "assert hasattr(pca, \"components_\"), \"Ensure that you fit the PCA to your data\"\n",
        "data_pca = apply_pca(pca, data_cancer)\n",
        "assert np.shape(data_pca) == (569, 2), \"Check that you return the transformed data\"\n",
        "assert np.all(np.abs(np.mean(data_pca, axis=0)) < 1e-8), \"Check that you return the transformed data\"\n",
        "assert np.all(np.mean(data_pca, axis=0) != data_cancer.mean(axis=0)[0:2].to_numpy()), \"Check that you return the transformed data\"\n",
        "pca = train_pca(data_cancer, 0.8)\n",
        "data_pca = apply_pca(pca, data_cancer)\n",
        "assert np.shape(data_pca) == (569, 1), \"Check that you accept also a value for explained variance as n_components\""
      ]
    },
    {
      "cell_type": "markdown",
      "id": "cc01528f-b571-4fbb-85f8-c0fb114a4d1d",
      "metadata": {
        "id": "cc01528f-b571-4fbb-85f8-c0fb114a4d1d"
      },
      "source": [
        "#### 7. PCA Visualization\n",
        "Use the functions of the tasks before to create two versions of the data set:\n",
        "* ``data_pca``: consists of two principal components of the original data set\n",
        "* ``data_scaled_pca``: consists of two principal components of the standardized data set\n",
        "\n",
        "Run the cell below the tests to visualize the PCA results of the original and standardized data set."
      ]
    },
    {
      "cell_type": "code",
      "execution_count": null,
      "id": "3624cdd3-d9ab-4205-9f5b-461b8ed0cf5f",
      "metadata": {
        "deletable": false,
        "nbgrader": {
          "cell_type": "code",
          "checksum": "a05e555c1d064c61924bc094decbf493",
          "grade": false,
          "grade_id": "vis_pca",
          "locked": false,
          "schema_version": 3,
          "solution": true,
          "task": false
        },
        "tags": [],
        "id": "3624cdd3-d9ab-4205-9f5b-461b8ed0cf5f"
      },
      "outputs": [],
      "source": [
        "# YOUR CODE HERE\n",
        "raise NotImplementedError()"
      ]
    },
    {
      "cell_type": "code",
      "execution_count": null,
      "id": "8f3ed65c-6617-4a5d-bcac-0e2df7c75d5a",
      "metadata": {
        "deletable": false,
        "editable": false,
        "nbgrader": {
          "cell_type": "code",
          "checksum": "214bbefa00efd11b46cbffbdefa6489f",
          "grade": true,
          "grade_id": "vis_pca_test",
          "locked": true,
          "points": 1,
          "schema_version": 3,
          "solution": false,
          "task": false
        },
        "tags": [],
        "id": "8f3ed65c-6617-4a5d-bcac-0e2df7c75d5a"
      },
      "outputs": [],
      "source": [
        "# run cell to test your implementation\n",
        "assert np.shape(data_pca) == (569, 2),  \"Check that you reduce the original dataset to two principal components\"\n",
        "assert np.std(data_pca) > 470, \"Check that you apply pca to the original dataset in data_pca\"\n",
        "assert np.shape(data_scaled_pca) == (569, 2), \"Check that you reduce the standardized dataset to two principal components\"\n",
        "assert np.std(data_scaled_pca) > 3, \"Check that you standardized the data in data_scaled_pca before applying pca\""
      ]
    },
    {
      "cell_type": "code",
      "execution_count": null,
      "id": "25bde7c7-3a23-43f9-a9c1-076dfa47c5d9",
      "metadata": {
        "tags": [],
        "id": "25bde7c7-3a23-43f9-a9c1-076dfa47c5d9"
      },
      "outputs": [],
      "source": [
        "# run cell to visualize the PCA results of the original and standardized dataset\n",
        "fig, axs = plt.subplots(ncols=2, figsize=(8,4))\n",
        "\n",
        "axs[0].scatter(data_pca[label_cancer[\"label\"]==\"malignant\", 0], data_pca[label_cancer[\"label\"]==\"malignant\", 1], alpha=0.5, label=\"malignant\")\n",
        "axs[0].scatter(data_pca[label_cancer[\"label\"]==\"benign\", 0], data_pca[label_cancer[\"label\"]==\"benign\", 1], alpha=0.1, label=\"benign\")\n",
        "axs[0].legend()\n",
        "\n",
        "axs[1].scatter(data_scaled_pca[label_cancer[\"label\"]==\"malignant\", 0], data_scaled_pca[label_cancer[\"label\"]==\"malignant\", 1], alpha=0.5, label=\"malignant\")\n",
        "axs[1].scatter(data_scaled_pca[label_cancer[\"label\"]==\"benign\", 0], data_scaled_pca[label_cancer[\"label\"]==\"benign\", 1], alpha=0.1, label=\"benign\")\n",
        "axs[1].legend()\n",
        "\n",
        "for ax, t in zip(axs, [\"PCA on original dataset\", \"PCA on standardized dataset\"]):\n",
        "    ax.set_xlabel(\"principal component 1\")\n",
        "    ax.set_ylabel(\"principal component 2\")\n",
        "    ax.set_title(t)\n",
        "\n",
        "fig.tight_layout()"
      ]
    },
    {
      "cell_type": "markdown",
      "id": "a68830bc",
      "metadata": {
        "pycharm": {
          "name": "#%% md\n"
        },
        "id": "a68830bc"
      },
      "source": [
        "#### 8. Train Test Split (step: Data Segregation)\n",
        "Create a function ``split_data`` that takes the parameters ``data``, ``labels``, and ``test_size`` and splits ``data`` and ``labels`` into a training and test dataset:\n",
        "* ``data``: ``numpy.ndarray`` or ``pandas.DataFrame`` containing the dataset (rows: observations, columns: features)\n",
        "* ``labels``: ``numpy.ndarray`` or ``pandas.DataFrame`` containing the labels for all observations\n",
        "* ``test_size``: ``float`` between 0 and 1, describing the size of the test dataset\n",
        "* Use the [sklearn.model_selection.train_test_split()](https://scikit-learn.org/stable/modules/generated/sklearn.model_selection.train_test_split.html) function to generate a train test split from ``data`` and ``labels``\n",
        "    * Use the *stratify* parameter of the function\n",
        "    * Set the random state to 10\n",
        "* The function should return a tuple of the into train and test dataset split dataset (in this order: data_train, data_test, label_train, label_test)\n",
        "* Describe your thoughts about the following questions in the cell below:\n",
        "    * Why do you think a Train Test Split is necessary for classifier training?\n",
        "    * In which cases could stratification be important?"
      ]
    },
    {
      "cell_type": "markdown",
      "id": "0df73cbd-ae31-4cd0-a015-81e1dc37babc",
      "metadata": {
        "id": "0df73cbd-ae31-4cd0-a015-81e1dc37babc"
      },
      "source": [
        "*YOUR ANSWER HERE*"
      ]
    },
    {
      "cell_type": "code",
      "execution_count": null,
      "id": "94b6700f",
      "metadata": {
        "deletable": false,
        "jupyter": {
          "outputs_hidden": false
        },
        "nbgrader": {
          "cell_type": "code",
          "checksum": "70e89c1db1dc440ca5c0ff8ace5f1b1d",
          "grade": false,
          "grade_id": "train_test",
          "locked": false,
          "schema_version": 3,
          "solution": true,
          "task": false
        },
        "pycharm": {
          "name": "#%%\n"
        },
        "tags": [],
        "id": "94b6700f"
      },
      "outputs": [],
      "source": [
        "# YOUR CODE HERE\n",
        "raise NotImplementedError()"
      ]
    },
    {
      "cell_type": "code",
      "execution_count": null,
      "id": "f9a3bc09",
      "metadata": {
        "deletable": false,
        "editable": false,
        "jupyter": {
          "outputs_hidden": false
        },
        "nbgrader": {
          "cell_type": "code",
          "checksum": "5f881e9ad0c9439f2af596bf3cff5263",
          "grade": true,
          "grade_id": "train_test_test",
          "locked": true,
          "points": 1,
          "schema_version": 3,
          "solution": false,
          "task": false
        },
        "pycharm": {
          "name": "#%%\n"
        },
        "tags": [],
        "id": "f9a3bc09"
      },
      "outputs": [],
      "source": [
        "# run cell to test your implementation\n",
        "data_test = np.array(range(100)).reshape(20, -1); label_test = np.zeros(20); label_test[2:] = 1\n",
        "data_split = split_data(data_test, label_test, 0.3)\n",
        "assert type(data_split) == tuple, \"Check that you return a tuple of your return values\"\n",
        "assert np.shape(data_split[0]) == (14, 5) and np.shape(data_split[1]) == (6, 5) and np.shape(data_split[2]) == (14,) and np.shape(data_split[3]) == (6,), \"Check that your return values are in the right order\"\n",
        "assert np.sum(data_split[3]) < 6, \"Check that you set the stratify parameter correctly\""
      ]
    },
    {
      "cell_type": "markdown",
      "id": "a85b3a50-cab9-4b92-ad02-74a9582cb407",
      "metadata": {
        "jupyter": {
          "outputs_hidden": false
        },
        "pycharm": {
          "name": "#%%\n"
        },
        "tags": [],
        "id": "a85b3a50-cab9-4b92-ad02-74a9582cb407"
      },
      "source": [
        "#### 9. Classification\n",
        "In this task, you will create functions that you will later need to train a classifier and evaluate its performance.\n",
        "##### 9.1 Classifier Training (step: Model Training)\n",
        "Create a function ``train_classifier`` with the parameters ``data`` and ``labels`` that fits a Support Vector Machine (SVM) to ``data``:\n",
        "* ``data``: ``numpy.ndarray`` or ``pandas.DataFrame`` containing the dataset (rows: observations, columns: features)\n",
        "* ``labels``: ``numpy.ndarray`` or ``pandas.DataFrame`` containing the labels for all observations\n",
        "* Create an instance of [sklearn.svm.SVC](https://scikit-learn.org/stable/modules/generated/sklearn.svm.SVC.html). Set the parameters *kernel*: \"rbf\", *random_state*: 10.\n",
        "* Use its methods to fit the SVM to ``data`` and ``labels``\n",
        "* The function should return the trained classifier object"
      ]
    },
    {
      "cell_type": "code",
      "execution_count": null,
      "id": "ad4ab7e6-a078-436c-8323-716f101abd64",
      "metadata": {
        "deletable": false,
        "nbgrader": {
          "cell_type": "code",
          "checksum": "61b6a92fb287355eb18c79fec3895b27",
          "grade": false,
          "grade_id": "train_classifier",
          "locked": false,
          "schema_version": 3,
          "solution": true,
          "task": false
        },
        "tags": [],
        "id": "ad4ab7e6-a078-436c-8323-716f101abd64"
      },
      "outputs": [],
      "source": [
        "# YOUR CODE HERE\n",
        "raise NotImplementedError()"
      ]
    },
    {
      "cell_type": "code",
      "execution_count": null,
      "id": "1fabbbbb-adc6-4eaf-ac86-c6262d8e602b",
      "metadata": {
        "deletable": false,
        "editable": false,
        "nbgrader": {
          "cell_type": "code",
          "checksum": "a5b8718170bbd01367ee968da8b82110",
          "grade": true,
          "grade_id": "train_classifier_test",
          "locked": true,
          "points": 1,
          "schema_version": 3,
          "solution": false,
          "task": false
        },
        "tags": [],
        "id": "1fabbbbb-adc6-4eaf-ac86-c6262d8e602b"
      },
      "outputs": [],
      "source": [
        "# run cell to test your implementation\n",
        "data_test = np.array(range(50)).reshape(10, -1); label_test = np.zeros(10); label_test[5:] = 1\n",
        "clf = train_classifier(data_test, label_test)\n",
        "assert type(clf) == sklearn.svm._classes.SVC, \"Ensure that you train a classifier of type sklearn.svm.SVC\"\n",
        "assert clf.kernel == \"rbf\", \"Ensure that you set your kernel to rbf\"\n",
        "assert clf.random_state == 10, \"Ensure that you set the classifier's random_state to 10\"\n",
        "assert hasattr(clf, \"classes_\"), \"Ensure that you train the classifier\""
      ]
    },
    {
      "cell_type": "markdown",
      "id": "23933fef-751d-427e-9ff2-0f6a6e8d9c3a",
      "metadata": {
        "tags": [],
        "id": "23933fef-751d-427e-9ff2-0f6a6e8d9c3a"
      },
      "source": [
        "##### 9.2 Classifier Evaluation - Mean Accuracy (step: Model Evaluation)\n",
        "Create a function ``calc_score`` with the parameters ``clf``, ``data``, and ``labels``\n",
        "* ``clf``: trained classifier object\n",
        "* ``data``: ``numpy.ndarray`` or ``pandas.DataFrame`` containing the dataset (rows: observations, columns: features)\n",
        "* ``labels``: ``numpy.ndarray`` or ``pandas.DataFrame`` containing the labels for all observations\n",
        "* Use the methods of ``clf`` to calculate the classifier's mean accuracy using ``data`` and ``labels``\n",
        "* The function should return the mean accuracy"
      ]
    },
    {
      "cell_type": "code",
      "execution_count": null,
      "id": "1ad13e2e-b02a-4a2b-b56a-28b7ba71c93a",
      "metadata": {
        "deletable": false,
        "nbgrader": {
          "cell_type": "code",
          "checksum": "320ecb373d601f84c6f22d5d0c39bc6f",
          "grade": false,
          "grade_id": "calc_score",
          "locked": false,
          "schema_version": 3,
          "solution": true,
          "task": false
        },
        "tags": [],
        "id": "1ad13e2e-b02a-4a2b-b56a-28b7ba71c93a"
      },
      "outputs": [],
      "source": [
        "# YOUR CODE HERE\n",
        "raise NotImplementedError()"
      ]
    },
    {
      "cell_type": "code",
      "execution_count": null,
      "id": "8ee0ac13-4615-45ef-b6d4-af34553120a8",
      "metadata": {
        "deletable": false,
        "editable": false,
        "nbgrader": {
          "cell_type": "code",
          "checksum": "59147522730fde8d247d91ec3b98e402",
          "grade": true,
          "grade_id": "calc_score_test",
          "locked": true,
          "points": 1,
          "schema_version": 3,
          "solution": false,
          "task": false
        },
        "tags": [],
        "id": "8ee0ac13-4615-45ef-b6d4-af34553120a8"
      },
      "outputs": [],
      "source": [
        "# run cell to test your implementation\n",
        "data_test = np.array(range(50)).reshape(10, -1); label_test = np.zeros(10); label_test[5:] = 1\n",
        "clf = train_classifier(data_test, label_test)\n",
        "data_test = np.array(range(10, 60)).reshape(10, -1)\n",
        "assert calc_score(clf, data_test, label_test) == 0.8, \"Ensure that you calculate the accuracy using the trained classifier and the parameters data and labels\""
      ]
    },
    {
      "cell_type": "markdown",
      "id": "4a64effd-2542-424f-bc29-f465927561af",
      "metadata": {
        "id": "4a64effd-2542-424f-bc29-f465927561af"
      },
      "source": [
        "##### 9.3 Classifier Evaluation - Confusion Matrix (step: Model Evaluation)\n",
        "Create a function ``plot_confusion_matrix`` with the parameters ``clf``, ``data``, and ``labels`` that plots a confusion matrix according to the data:\n",
        "* ``clf``: trained classifier object\n",
        "* ``data``: ``numpy.ndarray`` or ``pandas.DataFrame`` containing the dataset (rows: observations, columns: features)\n",
        "* ``labels``: ``numpy.ndarray`` or ``pandas.DataFrame`` containing the labels for all observations\n",
        "* Use the example code of [sklearn.metrics.ConfusionMatrixDisplay](https://scikit-learn.org/stable/modules/generated/sklearn.metrics.ConfusionMatrixDisplay.html) to create a plot of a confusion matrix based on ``data`` and ``labels``\n",
        "* The function should plot the confusion matrix and return the [sklearn.metrics.ConfusionMatrixDisplay](https://scikit-learn.org/stable/modules/generated/sklearn.metrics.ConfusionMatrixDisplay.html) object (just for testing purposes)"
      ]
    },
    {
      "cell_type": "code",
      "execution_count": null,
      "id": "6def5ba6-6e2d-41d4-93e3-a8ff3a95ed19",
      "metadata": {
        "deletable": false,
        "nbgrader": {
          "cell_type": "code",
          "checksum": "79919e7ea6eabb815254d62bd9411bf0",
          "grade": false,
          "grade_id": "plot_cm",
          "locked": false,
          "schema_version": 3,
          "solution": true,
          "task": false
        },
        "tags": [],
        "id": "6def5ba6-6e2d-41d4-93e3-a8ff3a95ed19"
      },
      "outputs": [],
      "source": [
        "# YOUR CODE HERE\n",
        "raise NotImplementedError()"
      ]
    },
    {
      "cell_type": "code",
      "execution_count": null,
      "id": "c047357b-388f-4ed7-96e0-1da7fd22a001",
      "metadata": {
        "deletable": false,
        "editable": false,
        "nbgrader": {
          "cell_type": "code",
          "checksum": "f5c9a001b066a7d83d938e927802781e",
          "grade": true,
          "grade_id": "plot_cm_test",
          "locked": true,
          "points": 1,
          "schema_version": 3,
          "solution": false,
          "task": false
        },
        "tags": [],
        "id": "c047357b-388f-4ed7-96e0-1da7fd22a001"
      },
      "outputs": [],
      "source": [
        "# run cell to test your implementation\n",
        "data_test = np.array(range(50)).reshape(10, -1); label_test = np.zeros(10); label_test[5:] = 1\n",
        "clf = train_classifier(data_test, label_test)\n",
        "cm = plot_confusion_matrix(clf, data_test, label_test)\n",
        "assert type(cm) == sklearn.metrics._plot.confusion_matrix.ConfusionMatrixDisplay\n",
        "assert np.all(cm.confusion_matrix == np.array([[5, 0], [0, 5]]))"
      ]
    },
    {
      "cell_type": "markdown",
      "id": "1408eb68-b371-45d0-a06d-492f03325aed",
      "metadata": {
        "jupyter": {
          "outputs_hidden": false
        },
        "pycharm": {
          "name": "#%%\n"
        },
        "tags": [],
        "id": "1408eb68-b371-45d0-a06d-492f03325aed"
      },
      "source": [
        "##### 9.4 Train a SVM classifier on a training data set and evaluate its performance on a separate test data set. To do so:\n",
        "* Create a train test split of your data with a test size of 0.3\n",
        "* Standardize the training data set and reduce its dimensionality to two components using PCA\n",
        "* Train the classifier and save it in a variable called ``clf``\n",
        "* Evaluate the performance of the trained classifier with the test data set:\n",
        "    * Which steps do you have to perform on the independent test data set before?\n",
        "    * Plot the confusion matrix for the test data set\n",
        "    * Calculate the mean accuracy for the train and test data set separately. Store the values in variables called ``clf_train_acc`` and ``clf_test_acc``."
      ]
    },
    {
      "cell_type": "code",
      "execution_count": null,
      "id": "5a143a4c-c5a0-4413-bef7-694aba4e81ad",
      "metadata": {
        "deletable": false,
        "jupyter": {
          "outputs_hidden": false
        },
        "nbgrader": {
          "cell_type": "code",
          "checksum": "5dd0e3aeaa4639a44cd19214cb8c0b4d",
          "grade": false,
          "grade_id": "train_eval_classifier",
          "locked": false,
          "schema_version": 3,
          "solution": true,
          "task": false
        },
        "pycharm": {
          "name": "#%%\n"
        },
        "tags": [],
        "id": "5a143a4c-c5a0-4413-bef7-694aba4e81ad"
      },
      "outputs": [],
      "source": [
        "# YOUR CODE HERE\n",
        "raise NotImplementedError()"
      ]
    },
    {
      "cell_type": "code",
      "execution_count": null,
      "id": "2759c73c",
      "metadata": {
        "deletable": false,
        "editable": false,
        "jupyter": {
          "outputs_hidden": false
        },
        "nbgrader": {
          "cell_type": "code",
          "checksum": "5782b8af4ffbe35bc97df89c723e61b7",
          "grade": true,
          "grade_id": "train_eval_classifier_test",
          "locked": true,
          "points": 2,
          "schema_version": 3,
          "solution": false,
          "task": false
        },
        "pycharm": {
          "name": "#%%\n"
        },
        "tags": [],
        "id": "2759c73c"
      },
      "outputs": [],
      "source": [
        "# run cell to test your implementation\n",
        "assert clf_train_acc > 0.94 and clf_test_acc > 0.93, \"Check that you perform all the steps you performed for the training data set also for the test data set\"\n",
        "assert clf.predict([[0, 5]])[0] == \"benign\" and clf.predict([[5, 0]])[0] == \"malignant\", \"Check that you performed the Standardization and PCA on the training data set before training the classifier\""
      ]
    },
    {
      "cell_type": "markdown",
      "id": "80b18014-7e54-41d8-91aa-d0869a3fa8f0",
      "metadata": {
        "id": "80b18014-7e54-41d8-91aa-d0869a3fa8f0"
      },
      "source": [
        "##### 9.5 Use the given function ``plot_decision_boundary()`` to visualize the decision boundary for your classifier:\n",
        "* ``clf``: trained classifier\n",
        "* ``data``: ``numpy.ndarray`` containing the training data set\n",
        "* ``label``: ``pandas.DataFrame`` containing the labels for the training data set"
      ]
    },
    {
      "cell_type": "code",
      "execution_count": null,
      "id": "fe9a3849-126c-4693-970a-0d5596bd30ef",
      "metadata": {
        "tags": [],
        "id": "fe9a3849-126c-4693-970a-0d5596bd30ef"
      },
      "outputs": [],
      "source": [
        "def plot_decision_boundary(clf, data, label):\n",
        "    x, y = np.meshgrid(np.linspace(data[:, 0].min(), data[:, 0].max()), np.linspace(data[:, 1].min(), data[:, 1].max()))\n",
        "    grid = np.vstack([x.ravel(), y.ravel()]).T\n",
        "\n",
        "    y_pred = np.reshape(clf.predict(grid), x.shape)\n",
        "    y_pred[y_pred==\"malignant\"] = 0\n",
        "    y_pred[y_pred==\"benign\"] = 1\n",
        "    y_pred = np.array(y_pred, dtype=float)\n",
        "\n",
        "    display = DecisionBoundaryDisplay(xx0=x, xx1=y, response=y_pred)\n",
        "    display.plot()\n",
        "    display.ax_.scatter(data[label[\"label\"]==\"malignant\", 0], data[label[\"label\"]==\"malignant\", 1], label=\"malignant\", alpha=0.5)\n",
        "    display.ax_.scatter(data[label[\"label\"]==\"benign\", 0], data[label[\"label\"]==\"benign\", 1], label=\"benign\", alpha=0.5)\n",
        "    display.ax_.legend()"
      ]
    },
    {
      "cell_type": "code",
      "execution_count": null,
      "id": "86ebd993-33b4-4ed4-8442-5e525fe5edae",
      "metadata": {
        "deletable": false,
        "nbgrader": {
          "cell_type": "code",
          "checksum": "cb2ac897179220b0b35ef7e7954b27de",
          "grade": false,
          "grade_id": "vis_decision_boundary",
          "locked": false,
          "schema_version": 3,
          "solution": true,
          "task": false
        },
        "tags": [],
        "id": "86ebd993-33b4-4ed4-8442-5e525fe5edae"
      },
      "outputs": [],
      "source": [
        "# YOUR CODE HERE\n",
        "raise NotImplementedError()"
      ]
    },
    {
      "cell_type": "markdown",
      "id": "2ceacdb4",
      "metadata": {
        "pycharm": {
          "name": "#%% md\n"
        },
        "id": "2ceacdb4"
      },
      "source": [
        "### **Bonus Tasks** (5 points)\n",
        "The Bonus Tasks consist of three sub-tasks about Regression, Clustering, and Classification.\n",
        "#### 1. Regression\n",
        "In this task, we use the Diabetes dataset provided by ``sklearn``. The dataset includes four baseline features like age and body mass index and six blood serum measurements of 442 diabetes patients. All 10 features are standardized. As labels the response of interest, a quantitative measure of disease progression one year after baseline is provided. For more information, you can read the description provided by ``sklearn`` (``diabetes[\"DESCR\"]``). The goal of this task is to predict the disease progression from the features using a regression model. For easier visualization, we will perform the regression only on one of the provided features."
      ]
    },
    {
      "cell_type": "code",
      "execution_count": null,
      "id": "77f6a2e6-2243-4c8b-a9a4-88e813f57333",
      "metadata": {
        "tags": [],
        "id": "77f6a2e6-2243-4c8b-a9a4-88e813f57333"
      },
      "outputs": [],
      "source": [
        "# run cell to load the diabetes features and label data frames\n",
        "diabetes = load_diabetes()\n",
        "data_diabetes = pd.DataFrame(data=diabetes[\"data\"], columns=diabetes[\"feature_names\"])\n",
        "label_diabetes = pd.DataFrame(diabetes[\"target\"], columns=[\"label\"])\n",
        "data_diabetes.head()"
      ]
    },
    {
      "cell_type": "code",
      "execution_count": null,
      "id": "ae08539a-6584-4aab-b0a4-34cc9bc2fee6",
      "metadata": {
        "tags": [],
        "id": "ae08539a-6584-4aab-b0a4-34cc9bc2fee6"
      },
      "outputs": [],
      "source": [
        "label_diabetes.head()"
      ]
    },
    {
      "cell_type": "markdown",
      "id": "e7f26a7d-56a2-4152-8a63-70cad9d53c0d",
      "metadata": {
        "tags": [],
        "id": "e7f26a7d-56a2-4152-8a63-70cad9d53c0d"
      },
      "source": [
        "##### 1.1 Since we do not have distinct class values as labels, we cannot use the ``split_data()`` function from above to divide our data into a train and test dataset. Therefore, we will use the last 130 observations (approximately 30 %) as test dataset. Create four data frames called ``X_train``, ``X_test``, ``Y_train``, and ``Y_test``:\n",
        "* ``X_Train`` should contain the first 312 elements of column **s5** of ``data_diabetes``\n",
        "* ``X_Test`` should contain the last 130 elements of column **s5** of ``data_diabetes``\n",
        "* ``Y_Train`` should contain the first 312 labels of ``label_diabetes``\n",
        "* ``Y_Test`` should contain the last 130 labels of ``label_diabetes``"
      ]
    },
    {
      "cell_type": "code",
      "execution_count": null,
      "id": "24126a08-d943-47c6-ab77-2eb8da8c70f0",
      "metadata": {
        "deletable": false,
        "nbgrader": {
          "cell_type": "code",
          "checksum": "3350b683eace0e624aae3a7e2cb5f135",
          "grade": false,
          "grade_id": "regr_data_split",
          "locked": false,
          "schema_version": 3,
          "solution": true,
          "task": false
        },
        "tags": [],
        "id": "24126a08-d943-47c6-ab77-2eb8da8c70f0"
      },
      "outputs": [],
      "source": [
        "test_size = 130 # observations\n",
        "\n",
        "# YOUR CODE HERE\n",
        "raise NotImplementedError()"
      ]
    },
    {
      "cell_type": "code",
      "execution_count": null,
      "id": "53748baa-eaaa-4220-aa20-e8c4594e2567",
      "metadata": {
        "deletable": false,
        "editable": false,
        "nbgrader": {
          "cell_type": "code",
          "checksum": "8f14406e8d2421c87a45fb5bf6947331",
          "grade": true,
          "grade_id": "regr_data_split_test",
          "locked": true,
          "points": 1,
          "schema_version": 3,
          "solution": false,
          "task": false
        },
        "tags": [],
        "id": "53748baa-eaaa-4220-aa20-e8c4594e2567"
      },
      "outputs": [],
      "source": [
        "# run cell to test your implementation\n",
        "assert type(X_train) == pd.DataFrame and type(X_test) == pd.DataFrame and type(Y_train) == pd.DataFrame and type(Y_test) == pd.DataFrame, \"Check that all four variables are of type pandas.DataFrame\"\n",
        "assert X_train.shape == (312, 1) and Y_train.shape == (312, 1) and X_test.shape == (130, 1) and Y_test.shape == (130, 1), \"Check that you make the split correctly. The test set must have 130 observations\"\n",
        "assert X_train.sum()[0] > -0.8 and X_train.sum()[0] < -0.7, \"Check that you use the last 130 observations as test set\""
      ]
    },
    {
      "cell_type": "markdown",
      "id": "1dc46274-7cf9-444e-b97b-0f1210d0606e",
      "metadata": {
        "id": "1dc46274-7cf9-444e-b97b-0f1210d0606e"
      },
      "source": [
        "##### 1.2 Fit a Linear Regression to ``X_train`` and ``Y_train`` and evaluate the performance on ``X_test`` and ``Y_test``:\n",
        "* Create an instance of [sklearn.linear_model.LinearRegression](https://scikit-learn.org/stable/modules/generated/sklearn.linear_model.LinearRegression.html) called ``regr`` and use its methods to fit the model to ``X_train`` and ``Y_train``\n",
        "* Calculate the Mean Squared Error between the true and predicted labels. You can use [sklearn.metric.mean_squared_error()](https://scikit-learn.org/stable/modules/generated/sklearn.metrics.mean_squared_error.html) for that. Save the value in a variable called ``test_error``."
      ]
    },
    {
      "cell_type": "code",
      "execution_count": null,
      "id": "1568053e-086b-4cb1-a5a6-76c4d984df88",
      "metadata": {
        "deletable": false,
        "nbgrader": {
          "cell_type": "code",
          "checksum": "d3fa4986bf9e638f58be4a5c1a5a446a",
          "grade": false,
          "grade_id": "train_regression",
          "locked": false,
          "schema_version": 3,
          "solution": true,
          "task": false
        },
        "tags": [],
        "id": "1568053e-086b-4cb1-a5a6-76c4d984df88"
      },
      "outputs": [],
      "source": [
        "# YOUR CODE HERE\n",
        "raise NotImplementedError()\n",
        "\n",
        "print(\"Mean squared error: %.2f\" % test_error)"
      ]
    },
    {
      "cell_type": "code",
      "execution_count": null,
      "id": "880ec236-a880-4c4c-8b14-3a732b4b1f89",
      "metadata": {
        "deletable": false,
        "editable": false,
        "nbgrader": {
          "cell_type": "code",
          "checksum": "f853dfee2327830e0e31e290872d101b",
          "grade": true,
          "grade_id": "train_regression_test",
          "locked": true,
          "points": 1,
          "schema_version": 3,
          "solution": false,
          "task": false
        },
        "tags": [],
        "id": "880ec236-a880-4c4c-8b14-3a732b4b1f89"
      },
      "outputs": [],
      "source": [
        "# run cell to test your implementation\n",
        "assert type(regr) == sklearn.linear_model.LinearRegression, \"Ensure that you train a Linear Regression Model\"\n",
        "assert hasattr(regr, \"coef_\"), \"Ensure that you fit the Linear Regression model to the data\"\n",
        "warnings.simplefilter(\"ignore\")\n",
        "assert regr.predict([[0.3]])[0] > 448, \"Ensure that you fit the model to the correct data\"\n",
        "assert test_error > 4245, \"Ensure that you calculate the Mean Squared Error correctly\""
      ]
    },
    {
      "cell_type": "code",
      "execution_count": null,
      "id": "c4cf98e8-5656-4aba-b974-2069ede6686f",
      "metadata": {
        "tags": [],
        "id": "c4cf98e8-5656-4aba-b974-2069ede6686f"
      },
      "outputs": [],
      "source": [
        "# run cell to visualize the results\n",
        "fig, ax = plt.subplots()\n",
        "ax.scatter(X_train, Y_train, color=\"tab:orange\", alpha=0.1, label=\"train data\")\n",
        "ax.scatter(X_test, Y_test, color=\"tab:blue\", label=\"test data\")\n",
        "ax.plot(X_test, Y_test_pred, color=\"tab:green\", linewidth=3, label=\"predicted test data\")\n",
        "ax.legend()\n",
        "ax.set_xlabel(\"s5\")\n",
        "_ = ax.set_ylabel(\"disease progression\")"
      ]
    },
    {
      "cell_type": "markdown",
      "id": "ea403f36",
      "metadata": {
        "pycharm": {
          "name": "#%% md\n"
        },
        "id": "ea403f36"
      },
      "source": [
        "#### 2. Clustering\n",
        "For the clustering task, we will use an artificial dataset consisting of three different Gaussian distributions which serve as three clusters. The goal of this task is to assign a label to every data point that indicates to which of the clusters they belong."
      ]
    },
    {
      "cell_type": "code",
      "execution_count": null,
      "id": "913fccc5-c61d-4cb4-a6a1-3a41b8cc10df",
      "metadata": {
        "tags": [],
        "id": "913fccc5-c61d-4cb4-a6a1-3a41b8cc10df"
      },
      "outputs": [],
      "source": [
        "# run cell to create and visualize the artificial dataset\n",
        "np.random.seed(0)\n",
        "gauss_1 = np.random.normal(loc=(10, 5), scale=(1, 3), size=(100, 2))\n",
        "gauss_2 = np.random.normal(loc=(12, 12), scale=(2, 1), size=(100, 2))\n",
        "gauss_3 = np.random.normal(loc=(16, 8), scale=1, size=(100, 2))\n",
        "data_cluster = np.concatenate([gauss_1, gauss_2, gauss_3])\n",
        "fig, ax = plt.subplots()\n",
        "ax.scatter(data_cluster[:, 0], data_cluster[:, 1])\n",
        "ax.set_xlabel(\"feature 1\")\n",
        "ax.set_ylabel(\"feature 2\")\n",
        "_ = ax.set_title(\"original dataset without cluster labels\")"
      ]
    },
    {
      "cell_type": "markdown",
      "id": "1ec81799-b6e1-4cb3-aaef-d26eee5ac275",
      "metadata": {
        "tags": [],
        "id": "1ec81799-b6e1-4cb3-aaef-d26eee5ac275"
      },
      "source": [
        "##### 2.1 Use a K-Means Clustering algorithm to assign a cluster label to every data point in ``data_cluster``:\n",
        "* Create an instance of [sklearn.cluster.KMeans](https://scikit-learn.org/stable/modules/generated/sklearn.cluster.KMeans.html) called ``kmeans``. Set the parameters *n_clusters*: 3, *random_state*: 10, *n_init*: \"auto\".\n",
        "* Use ``kmeans`` methods to fit the model to ``data_cluster``\n",
        "* Store the predicted labels in a variable called ``labels_pred``"
      ]
    },
    {
      "cell_type": "code",
      "execution_count": null,
      "id": "5c285819-b81b-44f3-9794-e4538dbae233",
      "metadata": {
        "deletable": false,
        "nbgrader": {
          "cell_type": "code",
          "checksum": "8df5a5ffa7bd0f5025eb2c6a43a87edf",
          "grade": false,
          "grade_id": "train_kmeans",
          "locked": false,
          "schema_version": 3,
          "solution": true,
          "task": false
        },
        "tags": [],
        "id": "5c285819-b81b-44f3-9794-e4538dbae233"
      },
      "outputs": [],
      "source": [
        "# YOUR CODE HERE\n",
        "raise NotImplementedError()"
      ]
    },
    {
      "cell_type": "code",
      "execution_count": null,
      "id": "bd1335b8-68bc-40d2-bef4-2072b4dfa1ee",
      "metadata": {
        "deletable": false,
        "editable": false,
        "nbgrader": {
          "cell_type": "code",
          "checksum": "e4e62db49b8353fed12e86b4e623b976",
          "grade": true,
          "grade_id": "train_kmeans_test",
          "locked": true,
          "points": 1,
          "schema_version": 3,
          "solution": false,
          "task": false
        },
        "tags": [],
        "id": "bd1335b8-68bc-40d2-bef4-2072b4dfa1ee"
      },
      "outputs": [],
      "source": [
        "# run cell to test your implementation\n",
        "assert type(kmeans) == sklearn.cluster.KMeans, \"Ensure that you use a KMeans model for clustering\"\n",
        "assert kmeans.n_clusters == 3 and kmeans.random_state == 10 and kmeans.n_init == \"auto\", \"Check if you set the parameters of the KMeans model correctly\"\n",
        "assert hasattr(kmeans, \"cluster_centers_\"), \"Ensure that you fit the KMeans model to the data\"\n",
        "assert np.shape(labels_pred) == (300,), \"Ensure that you used the predicted labels of the trained KMeans model\""
      ]
    },
    {
      "cell_type": "code",
      "execution_count": null,
      "id": "8a3b3104-7fd5-48c4-befb-af22f4488a70",
      "metadata": {
        "tags": [],
        "id": "8a3b3104-7fd5-48c4-befb-af22f4488a70"
      },
      "outputs": [],
      "source": [
        "# run cell to visualize the results\n",
        "fig, axs = plt.subplots(ncols=2, figsize=(8, 4))\n",
        "axs[0].scatter(gauss_1[:, 0], gauss_1[:, 1], label=\"gauss_1\", alpha=0.5)\n",
        "axs[0].scatter(gauss_2[:, 0], gauss_2[:, 1], label=\"gauss_2\", alpha=0.5)\n",
        "axs[0].scatter(gauss_3[:, 0], gauss_3[:, 1], label=\"gauss_3\", alpha=0.5)\n",
        "axs[1].scatter(data_cluster[labels_pred==0, 0], data_cluster[labels_pred==0, 1], label=\"cluster_1\", alpha=0.5)\n",
        "axs[1].scatter(data_cluster[labels_pred==1, 0], data_cluster[labels_pred==1, 1], label=\"cluster_2\", alpha=0.5)\n",
        "_ = axs[1].scatter(data_cluster[labels_pred==2, 0], data_cluster[labels_pred==2, 1], label=\"cluster_3\", alpha=0.5)\n",
        "for ax, t in zip(axs, [\"original dataset\", \"KMeans clustered dataset\"]):\n",
        "    ax.legend()\n",
        "    ax.set_title(t)\n",
        "    ax.set_xlabel(\"feature 1\")\n",
        "    ax.set_ylabel(\"feature 2\")"
      ]
    },
    {
      "cell_type": "markdown",
      "id": "d0b89f49-c346-4286-a8cd-7f782b9ce0d9",
      "metadata": {
        "id": "d0b89f49-c346-4286-a8cd-7f782b9ce0d9"
      },
      "source": [
        "#### 3. Classification\n",
        "For the classification task, we use the cortisol data set that has been included in some of the last assignments. Five Saliva features are computed for 26 participants which are divided into two groups *Intervention* and *Control*. The goal of this task is to fit a Random Forest Classifier to different (sub-)sets of the dataset."
      ]
    },
    {
      "cell_type": "code",
      "execution_count": null,
      "id": "8e4e9e7c-136c-4a1b-9531-f5d682468c9a",
      "metadata": {
        "tags": [],
        "id": "8e4e9e7c-136c-4a1b-9531-f5d682468c9a"
      },
      "outputs": [],
      "source": [
        "# run cell to load cortisol dataset\n",
        "cortisol = bp.example_data.get_saliva_example()\n",
        "sample_times = [-30, -1, 30, 40, 50, 60, 70]\n",
        "auc = bp.saliva.auc(\n",
        "    cortisol, saliva_type=\"cortisol\", sample_times=sample_times, compute_auc_post=True, remove_s0=True\n",
        ")\n",
        "max_inc = bp.saliva.max_increase(cortisol, saliva_type=\"cortisol\", remove_s0=True)\n",
        "slope = bp.saliva.slope(cortisol, sample_idx=[1, 4], sample_times=sample_times, saliva_type=\"cortisol\")\n",
        "\n",
        "cort_features = pd.concat([auc, max_inc, slope], axis=1)\n",
        "label_cortisol = np.array(cort_features.index.get_level_values(0))\n",
        "data_cortisol = cort_features.droplevel(0, axis=0)\n",
        "data_cortisol.head()"
      ]
    },
    {
      "cell_type": "markdown",
      "id": "a0c5013e-0e40-4304-82f5-3c01de68a27a",
      "metadata": {
        "id": "a0c5013e-0e40-4304-82f5-3c01de68a27a"
      },
      "source": [
        "##### 3.1 Train the classifier on the complete dataset:\n",
        "* Create an instance of [sklearn.ensemble.RandomForestClassifier](https://scikit-learn.org/stable/modules/generated/sklearn.ensemble.RandomForestClassifier.html) called ``clf``. Set the parameters *n_estimators*: 100, *random_state*: 10.\n",
        "* Use the methods of ``clf`` to fit the model to ``data_cortisol`` and ``label_cortisol``\n",
        "* Calculate the mean accuracy of the dataset and save it in a variable ``data_score``\n",
        "* Describe your thoughts about the following questions in the cell below:\n",
        "    * How would you interpret this result?\n",
        "    * What can you tell about the generalizability of this model to unknown data?"
      ]
    },
    {
      "cell_type": "markdown",
      "id": "a2256985-3b8c-4778-bd4f-a886940da790",
      "metadata": {
        "id": "a2256985-3b8c-4778-bd4f-a886940da790"
      },
      "source": [
        "*YOUR ANSWER HERE*"
      ]
    },
    {
      "cell_type": "code",
      "execution_count": null,
      "id": "b5486566-c42e-412c-b46b-f4920554638f",
      "metadata": {
        "deletable": false,
        "nbgrader": {
          "cell_type": "code",
          "checksum": "371c0540b7ccd6ef71d3f52d46ef5091",
          "grade": false,
          "grade_id": "train_rf",
          "locked": false,
          "schema_version": 3,
          "solution": true,
          "task": false
        },
        "tags": [],
        "id": "b5486566-c42e-412c-b46b-f4920554638f"
      },
      "outputs": [],
      "source": [
        "# YOUR CODE HERE\n",
        "raise NotImplementedError()\n",
        "\n",
        "print(\"Classifier Data Score:\", data_score)"
      ]
    },
    {
      "cell_type": "code",
      "execution_count": null,
      "id": "00740139-9922-4f43-9437-506644d0de72",
      "metadata": {
        "deletable": false,
        "editable": false,
        "nbgrader": {
          "cell_type": "code",
          "checksum": "5d11c8de99245118fd20f0fc89fdb834",
          "grade": true,
          "grade_id": "train_rf_test",
          "locked": true,
          "points": 0.5,
          "schema_version": 3,
          "solution": false,
          "task": false
        },
        "tags": [],
        "id": "00740139-9922-4f43-9437-506644d0de72"
      },
      "outputs": [],
      "source": [
        "# run cell to test your implementation\n",
        "assert type(clf) == sklearn.ensemble.RandomForestClassifier, \"Check if you train a classifer of type RandomForestClassifier\"\n",
        "assert clf.n_estimators == 100 and clf.random_state == 10, \"Check the parameters of the classifier\"\n",
        "assert hasattr(clf, \"classes_\"), \"Make sure that you fit the classifier\"\n",
        "warnings.simplefilter(\"ignore\")\n",
        "assert clf.predict([[300, 20, 40, 4, 0.03]])[0] == \"Control\" and clf.predict([[350, -10, 50, 0.7, 0]])[0] == \"Intervention\", \"Make sure to train the classifier on the correct data set\"\n",
        "assert data_score == 1, \"Make sure to train the classifier on the correct data set\""
      ]
    },
    {
      "cell_type": "markdown",
      "id": "9b53586e-4a6a-4b4d-853f-7d65e8ca831e",
      "metadata": {
        "id": "9b53586e-4a6a-4b4d-853f-7d65e8ca831e"
      },
      "source": [
        "##### 3.2 Train the classifier on a train test split of the dataset:\n",
        "* Create an instance of [sklearn.ensemble.RandomForestClassifier](https://scikit-learn.org/stable/modules/generated/sklearn.ensemble.RandomForestClassifier.html) called ``clf``. Set the parameters *n_estimators*: 100, *random_state*: 10.\n",
        "* Create a train test split of ``data_cortisol`` and ``label_cortisol`` using ``split_data()``. Use a test size of 0.3.\n",
        "* Use the methods of ``clf`` to fit the model to the training dataset\n",
        "* Calculate the mean accuracy of the training and test dataset separately and save it in variables called ``train_score`` and ``test_score``\n",
        "* Describe your thoughts about the following questions in the cell below:\n",
        "    * Why do you think is there such a big difference between that training and test model accuracy?\n",
        "    * What can you tell about the generalizability of this model to unknown data?"
      ]
    },
    {
      "cell_type": "markdown",
      "id": "1b7aaff8-c903-4b67-af72-5523f2b3def5",
      "metadata": {
        "id": "1b7aaff8-c903-4b67-af72-5523f2b3def5"
      },
      "source": [
        "*YOUR ANSWER HERE*"
      ]
    },
    {
      "cell_type": "code",
      "execution_count": null,
      "id": "c1630a05-862b-430d-9310-4ef2bb638ea7",
      "metadata": {
        "deletable": false,
        "nbgrader": {
          "cell_type": "code",
          "checksum": "1062750916d0e0be8b9abd365a2b684a",
          "grade": false,
          "grade_id": "train_rf_split",
          "locked": false,
          "schema_version": 3,
          "solution": true,
          "task": false
        },
        "tags": [],
        "id": "c1630a05-862b-430d-9310-4ef2bb638ea7"
      },
      "outputs": [],
      "source": [
        "# YOUR CODE HERE\n",
        "raise NotImplementedError()\n",
        "\n",
        "print(\"Classifier Training Score:\", train_score)\n",
        "print(\"Classifier Test Score:\", test_score)"
      ]
    },
    {
      "cell_type": "code",
      "execution_count": null,
      "id": "ea8d8999-06cb-4083-adb4-7b0b37561c6d",
      "metadata": {
        "deletable": false,
        "editable": false,
        "nbgrader": {
          "cell_type": "code",
          "checksum": "d0b6fbdfdcc1681c132b6dab8a5f96fc",
          "grade": true,
          "grade_id": "train_rf_split_test",
          "locked": true,
          "points": 0.5,
          "schema_version": 3,
          "solution": false,
          "task": false
        },
        "tags": [],
        "id": "ea8d8999-06cb-4083-adb4-7b0b37561c6d"
      },
      "outputs": [],
      "source": [
        "# run cell to test your implementation\n",
        "assert type(clf) == sklearn.ensemble.RandomForestClassifier, \"Check if you train a classifer of type RandomForestClassifier\"\n",
        "assert clf.n_estimators == 100 and clf.random_state == 10, \"Check the parameters of the classifier\"\n",
        "assert hasattr(clf, \"classes_\"), \"Make sure that you fit the classifier\"\n",
        "warnings.simplefilter(\"ignore\")\n",
        "assert clf.predict([[350, 20, 40, 4, 0.03]])[0] == \"Control\" and clf.predict([[350, -10, 50, 0.7, 0]])[0] == \"Intervention\", \"Make sure to train the classifier on the correct data set\"\n",
        "assert train_score == 1, \"Make sure to train the classifier on the correct data set\"\n",
        "assert test_score == 0.625, \"Make sure to calculate the accuracy for the separate test set\""
      ]
    },
    {
      "cell_type": "markdown",
      "id": "14a6afb3-725f-4216-84fb-0dec1a5e741a",
      "metadata": {
        "id": "14a6afb3-725f-4216-84fb-0dec1a5e741a"
      },
      "source": [
        "##### 3.3 Train the classifier using Cross-Validation:\n",
        "* Create an instance of [sklearn.ensemble.RandomForestClassifier](https://scikit-learn.org/stable/modules/generated/sklearn.ensemble.RandomForestClassifier.html) called ``clf``. Set the parameters *n_estimators*: 100, *random_state*: 10.\n",
        "* Use [sklearn.model_selection.cross_validate](https://scikit-learn.org/stable/modules/generated/sklearn.model_selection.cross_validate.html) to train ``clf`` on the whole dataset using a 5-fold Cross-Validation. Set the parameter *cv*: 5\n",
        "* Calculate the mean standard deviation over the 5 test scores and save them in the variables called ``test_score_mean`` and ``test_score_std``\n",
        "* Describe you thoughts about the following questions in the cell below:\n",
        "    * What are the advantages of using Cross-Validation?\n",
        "    * What can you tell about the robustness of this model?"
      ]
    },
    {
      "cell_type": "markdown",
      "id": "2f1e74a4-49d7-4ec9-ae86-793b8c3fe5b0",
      "metadata": {
        "tags": [],
        "id": "2f1e74a4-49d7-4ec9-ae86-793b8c3fe5b0"
      },
      "source": [
        "*YOUR ANSWER HERE*"
      ]
    },
    {
      "cell_type": "code",
      "execution_count": null,
      "id": "97dd9023-fad9-4c5a-a11a-c1bfc38c9f7a",
      "metadata": {
        "deletable": false,
        "nbgrader": {
          "cell_type": "code",
          "checksum": "017dc04fe9d4586d3a4efac0ff88f9e6",
          "grade": false,
          "grade_id": "train_rf_cv",
          "locked": false,
          "schema_version": 3,
          "solution": true,
          "task": false
        },
        "tags": [],
        "id": "97dd9023-fad9-4c5a-a11a-c1bfc38c9f7a"
      },
      "outputs": [],
      "source": [
        "# YOUR CODE HERE\n",
        "raise NotImplementedError()\n",
        "\n",
        "print(\"Classifier Test score (mean \\u00B1 std): %.2f \\u00B1 %.2f\" % (test_score_mean, test_score_std))"
      ]
    },
    {
      "cell_type": "code",
      "execution_count": null,
      "id": "7f2d1e12-d190-4bbc-b6cd-9ad60a4193eb",
      "metadata": {
        "deletable": false,
        "editable": false,
        "nbgrader": {
          "cell_type": "code",
          "checksum": "ddaed961bf1d6ee002be1ba43d6b0fe4",
          "grade": true,
          "grade_id": "train_rf_cv_test",
          "locked": true,
          "points": 1,
          "schema_version": 3,
          "solution": false,
          "task": false
        },
        "tags": [],
        "id": "7f2d1e12-d190-4bbc-b6cd-9ad60a4193eb"
      },
      "outputs": [],
      "source": [
        "# run cell to test your implementation\n",
        "assert type(clf) == sklearn.ensemble.RandomForestClassifier, \"Check if you train a classifer of type RandomForestClassifier\"\n",
        "assert clf.n_estimators == 100 and clf.random_state == 10, \"Check the parameters of the classifier\"\n",
        "assert hasattr(clf, \"classes_\") == False, \"Make sure to train the classifiers using cross_validate\"\n",
        "assert test_score_mean > 0.6 and test_score_std > 0.11, \"Make sure to calculate the mean accuracy and standard deviation from the return values from cross_validate()\""
      ]
    }
  ],
  "metadata": {
    "kernelspec": {
      "display_name": "Python 3",
      "name": "python3"
    },
    "language_info": {
      "name": "python"
    },
    "colab": {
      "provenance": [],
      "include_colab_link": true
    }
  },
  "nbformat": 4,
  "nbformat_minor": 5
}